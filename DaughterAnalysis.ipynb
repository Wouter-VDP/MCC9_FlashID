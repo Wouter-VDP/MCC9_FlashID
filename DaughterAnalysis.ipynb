{
 "cells": [
  {
   "cell_type": "code",
   "execution_count": 1,
   "metadata": {
    "collapsed": true
   },
   "outputs": [],
   "source": [
    "import uproot\n",
    "import matplotlib.pyplot as plt\n",
    "import numpy as np\n",
    "import time\n",
    "from IPython.display import display, clear_output\n",
    "import pandas as pd\n",
    "\n",
    "pd.set_option('display.max_columns', 500)"
   ]
  },
  {
   "cell_type": "code",
   "execution_count": 7,
   "metadata": {
    "collapsed": true
   },
   "outputs": [],
   "source": [
    "outdir= './output/DaughterAnalysis/'\n",
    "inputdir = './input/'  \n",
    "\n",
    "nu_file = inputdir+'NueCC_nu_mcc9_nov.root'\n",
    "nue_file = inputdir+'NueCC_nue_mcc9_nov.root'"
   ]
  },
  {
   "cell_type": "code",
   "execution_count": 8,
   "metadata": {
    "collapsed": true
   },
   "outputs": [],
   "source": [
    "lower = [-1.55, -115.53, 0.1]\n",
    "upper = [254.8, 117.47, 1036.9]\n",
    "fidvol_vtx = [10,10,10,10,10,50] \n",
    "fidvol_end = [10,10,10,10,10,10]"
   ]
  },
  {
   "cell_type": "code",
   "execution_count": 9,
   "metadata": {
    "collapsed": true
   },
   "outputs": [],
   "source": [
    "def inTPC_df(df, str_x, str_y, str_z, fidvol=[0]*6):\n",
    "    global upper, lower\n",
    "    mask_x = df[str_x].between(lower[0]+fidvol[0], upper[0]-fidvol[1])\n",
    "    mask_y = df[str_y].between(lower[1]+fidvol[2], upper[1]-fidvol[3])\n",
    "    mask_z = df[str_z].between(lower[2]+fidvol[4], upper[2]-fidvol[5])\n",
    "    mask = mask_x & mask_y & mask_z\n",
    "    return mask"
   ]
  },
  {
   "cell_type": "code",
   "execution_count": 10,
   "metadata": {
    "collapsed": false
   },
   "outputs": [],
   "source": [
    "nu_daughters = uproot.open(nu_file)['nueCCAnalyser/Daughters'].pandas.df()\n",
    "nue_daughters = uproot.open(nue_file)['nueCCAnalyser/Daughters'].pandas.df()"
   ]
  },
  {
   "cell_type": "code",
   "execution_count": 11,
   "metadata": {
    "collapsed": false
   },
   "outputs": [],
   "source": [
    "daughters = pd.concat([nu_daughters,nue_daughters])"
   ]
  },
  {
   "cell_type": "code",
   "execution_count": 12,
   "metadata": {
    "collapsed": true
   },
   "outputs": [],
   "source": [
    "# Add reco containment\n",
    "start_mask = inTPC_df(daughters, 'vx', 'vy', 'vz', fidvol_vtx)\n",
    "end_mask = inTPC_df(daughters, 'track_endx', 'track_endy', 'track_endz', fidvol_vtx)\n",
    "daughters['contained'] = start_mask & end_mask \n",
    "\n",
    "# Add theta angle\n",
    "v1_u = daughters[['track_dirx','track_diry','track_dirz']]\n",
    "v2_u = [0,0,1]\n",
    "daughters['track_theta'] = np.arccos(np.clip(np.dot(v1_u, v2_u), -1.0, 1.0))\n",
    "v3_u = [0,-1,0]\n",
    "daughters['track_zenith'] = np.arccos(np.clip(np.dot(v1_u, v3_u), -1.0, 1.0))\n",
    "\n",
    "# Add true fidvol\n",
    "daughters['mc_fidvol'] = inTPC_df(daughters, 'mc_vx', 'mc_vy', 'mc_vz', fidvol_vtx)\n",
    "\n",
    "# Add distance from true to reco vertex: \n",
    "eval_str = \"sqrt( (vx-mc_vx_sce)**2 + (vy-mc_vy_sce)**2 + (vz-mc_vz_sce)**2 )\"\n",
    "daughters['mc_reco_vtx_distance'] = daughters.eval(eval_str)\n",
    "\n",
    "# Add categories to train/test on\n",
    "good_str = \"mc_neutrino & mc_fidvol & \"\n",
    "cat_e_good = good_str+\"abs(mc_pdg)==11\"\n",
    "cat_p_good = good_str+\"abs(mc_pdg)==2212\"\n",
    "cat_g_good = good_str+\"mc_pdg==22\"\n",
    "cat_mu_good = good_str+\"abs(mc_pdg)==13\"\n",
    "cat_pi_good = good_str+\"abs(mc_pdg)==211\"\n",
    "cat_cosmic = \"~mc_neutrino\"\n",
    "\n",
    "daughters['category'] =  1*daughters.eval(cat_e_good)+\\\n",
    "                         2*daughters.eval(cat_p_good)+\\\n",
    "                         3*daughters.eval(cat_g_good)+\\\n",
    "                         4*daughters.eval(cat_mu_good)+\\\n",
    "                         5*daughters.eval(cat_pi_good)+\\\n",
    "                         6*daughters.eval(cat_cosmic)\n",
    "\n",
    "target_names = ['other','electron', 'proton', 'photon', 'nu muon', 'charged pion', 'cosmic']\n",
    "label_map = dict(zip(range(7),target_names))\n",
    "daughters['label'] = daughters['category'].map(label_map)"
   ]
  },
  {
   "cell_type": "code",
   "execution_count": 13,
   "metadata": {
    "collapsed": false
   },
   "outputs": [
    {
     "data": {
      "text/plain": [
       "Index(['event', 'run', 'subrun', 'evt_time_sec', 'evt_time_nsec', 'hitsU',\n",
       "       'hitsV', 'hitsY', 'caloU', 'caloV', 'caloY', 'hitsSps', 'generation',\n",
       "       'track_score', 'is_shower', 'is_track', 'has_shower_daughter',\n",
       "       'is_track_daughter', 'vx', 'vy', 'vz', 'vtx_distance', 'track_length',\n",
       "       'track_endx', 'track_endy', 'track_endz', 'track_dirx', 'track_diry',\n",
       "       'track_dirz', 'shower_length', 'shower_openangle', 'shower_dirx',\n",
       "       'shower_diry', 'shower_dirz', 'start_dedxU', 'start_dedxV',\n",
       "       'start_dedxY', 'start_hitsU', 'start_hitsV', 'start_hitsY',\n",
       "       'start_pitchU', 'start_pitchV', 'start_pitchY', 'mc_neutrino', 'mc_vx',\n",
       "       'mc_vy', 'mc_vz', 'mc_vx_sce', 'mc_vy_sce', 'mc_vz_sce', 'mc_energy',\n",
       "       'mc_pdg', 'contained', 'track_theta', 'track_zenith', 'mc_fidvol',\n",
       "       'mc_reco_vtx_distance', 'category', 'label'],\n",
       "      dtype='object')"
      ]
     },
     "execution_count": 13,
     "metadata": {},
     "output_type": "execute_result"
    }
   ],
   "source": [
    "daughters.columns"
   ]
  },
  {
   "cell_type": "code",
   "execution_count": 14,
   "metadata": {
    "collapsed": false
   },
   "outputs": [
    {
     "data": {
      "image/png": "[encoded data removed]",
      "text/plain": [
       "<Figure size 864x432 with 3 Axes>"
      ]
     },
     "metadata": {
      "needs_background": "light"
     },
     "output_type": "display_data"
    }
   ],
   "source": [
    "fig,ax = plt.subplots(1,3, sharex=True, sharey=True, figsize=(12,6))\n",
    "\n",
    "xmin=0\n",
    "xmax=8\n",
    "\n",
    "for i,plane in enumerate([\"U\",\"V\",\"Y\"]):\n",
    "    for name in target_names:\n",
    "        str_query = \"start_hits\"+plane+\">3 & abs(start_pitch\"+plane+\")<0.9 & label==@name\"\n",
    "        field = \"start_dedx\"+plane\n",
    "        data= daughters.query(str_query)[field]\n",
    "        ax[i].hist(data, bins=50, range=(xmin,xmax), label=name, histtype='step',lw=2, density=True)\n",
    "    ax[i].set_xlabel(field)\n",
    "    ax[i].set_xlim(xmin,xmax)\n",
    "    ax[i].legend()"
   ]
  },
  {
   "cell_type": "code",
   "execution_count": 15,
   "metadata": {
    "collapsed": false
   },
   "outputs": [
    {
     "data": {
      "text/plain": [
       "<matplotlib.legend.Legend at 0x7fb63aa2a2b0>"
      ]
     },
     "execution_count": 15,
     "metadata": {},
     "output_type": "execute_result"
    },
    {
     "data": {
      "image/png": "[encoded data removed]",
      "text/plain": [
       "<Figure size 432x288 with 1 Axes>"
      ]
     },
     "metadata": {
      "needs_background": "light"
     },
     "output_type": "display_data"
    }
   ],
   "source": [
    "fig,ax = plt.subplots(1,1, sharex=True, sharey=True, figsize=(6,4))\n",
    "\n",
    "xmin=0\n",
    "xmax=30\n",
    "\n",
    "for name in target_names:\n",
    "    field = \"vtx_distance\"\n",
    "    data = daughters.query(\"label==@name\")[field]\n",
    "    ax.hist(data, bins=50, range=(xmin,xmax), label=name, histtype='step',lw=2, density=True)\n",
    "ax.set_xlabel(field)\n",
    "ax.set_xlim(xmin,xmax)\n",
    "ax.set_yscale('log')\n",
    "ax.legend()"
   ]
  },
  {
   "cell_type": "code",
   "execution_count": null,
   "metadata": {
    "collapsed": true
   },
   "outputs": [],
   "source": []
  }
 ],
 "metadata": {
  "anaconda-cloud": {},
  "kernelspec": {
   "display_name": "Uproot Env",
   "language": "python",
   "name": "uprootenv"
  },
  "language_info": {
   "codemirror_mode": {
    "name": "ipython",
    "version": 3
   },
   "file_extension": ".py",
   "mimetype": "text/x-python",
   "name": "python",
   "nbconvert_exporter": "python",
   "pygments_lexer": "ipython3",
   "version": "3.5.6"
  }
 },
 "nbformat": 4,
 "nbformat_minor": 2
}
