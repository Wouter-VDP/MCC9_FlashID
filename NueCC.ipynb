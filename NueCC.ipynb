{
 "cells": [
  {
   "cell_type": "markdown",
   "metadata": {},
   "source": [
    "# NueCC selection\n",
    "Jupyter notebook to look at the outcome of the optical selection, with a focus on electrons"
   ]
  },
  {
   "cell_type": "markdown",
   "metadata": {},
   "source": [
    "## Imports"
   ]
  },
  {
   "cell_type": "code",
   "execution_count": 1,
   "metadata": {},
   "outputs": [],
   "source": [
    "%load_ext autoreload\n",
    "%matplotlib inline"
   ]
  },
  {
   "cell_type": "code",
   "execution_count": 2,
   "metadata": {},
   "outputs": [],
   "source": [
    "import uproot\n",
    "import matplotlib.pyplot as plt\n",
    "import numpy as np\n",
    "import time\n",
    "from IPython.display import display, clear_output\n",
    "import pandas as pd\n",
    "pd.set_option('display.max_columns', 500)"
   ]
  },
  {
   "cell_type": "code",
   "execution_count": 3,
   "metadata": {},
   "outputs": [],
   "source": [
    "%autoreload"
   ]
  },
  {
   "cell_type": "markdown",
   "metadata": {},
   "source": [
    "## Constants"
   ]
  },
  {
   "cell_type": "code",
   "execution_count": 4,
   "metadata": {},
   "outputs": [],
   "source": [
    "gr = 1.618\n",
    "outdir= './output/NueCC/'\n",
    "inputdir = './input/'  "
   ]
  },
  {
   "cell_type": "code",
   "execution_count": 5,
   "metadata": {},
   "outputs": [],
   "source": [
    "lower = [-1.55, -115.53, 0.1]\n",
    "upper = [254.8, 117.47, 1036.9]\n",
    "fidvol_arr = [10,10,10,10,10,50] "
   ]
  },
  {
   "cell_type": "code",
   "execution_count": 6,
   "metadata": {},
   "outputs": [],
   "source": [
    "file_name = inputdir+'flashID_tree.root'"
   ]
  },
  {
   "cell_type": "markdown",
   "metadata": {},
   "source": [
    "## Definitions"
   ]
  },
  {
   "cell_type": "code",
   "execution_count": 7,
   "metadata": {},
   "outputs": [],
   "source": [
    "def inTPC_df(df, str_x, str_y, str_z, fidvol=[0]*6):\n",
    "    global upper, lower\n",
    "    mask_x = df[str_x].between(lower[0]+fidvol[0], upper[0]-fidvol[1])\n",
    "    mask_y = df[str_y].between(lower[1]+fidvol[2], upper[1]-fidvol[3])\n",
    "    mask_z = df[str_z].between(lower[2]+fidvol[4], upper[2]-fidvol[5])\n",
    "    mask = mask_x & mask_y & mask_z\n",
    "    return mask\n",
    "\n",
    "def eventHash(df):\n",
    "    return df.apply(lambda x: hash(tuple(x)), axis = 1)"
   ]
  },
  {
   "cell_type": "markdown",
   "metadata": {},
   "source": [
    "## Loading inputs"
   ]
  },
  {
   "cell_type": "code",
   "execution_count": 8,
   "metadata": {},
   "outputs": [],
   "source": [
    "file_flashid = uproot.open(file_name)['pandoraFlashEventBuilding/events']\n",
    "file_nuecc = uproot.open(file_name)['nueCCAnalyser']"
   ]
  },
  {
   "cell_type": "code",
   "execution_count": 9,
   "metadata": {},
   "outputs": [],
   "source": [
    "nuecc_events = file_nuecc['Event']\n",
    "nuecc_daughters = file_nuecc['Daughters']"
   ]
  },
  {
   "cell_type": "code",
   "execution_count": 10,
   "metadata": {},
   "outputs": [
    {
     "name": "stdout",
     "output_type": "stream",
     "text": [
      "Selection efficiency of nueCC without mc fiducial volume\n",
      "Number of events: 25\n",
      "Number of passed events: 12\n",
      "Selected: (48.0+-10.0)%\n"
     ]
    }
   ],
   "source": [
    "num_events = file_flashid.numentries\n",
    "num_selected = nuecc_events.numentries\n",
    "print(\"Selection efficiency of nueCC without mc fiducial volume\")\n",
    "print(\"Number of events:\", num_events)\n",
    "print(\"Number of passed events:\", num_selected)\n",
    "err = np.sqrt(num_selected*(num_events-num_selected)/num_events**3)\n",
    "print(\"Selected: ({0:.1f}+-{1:.1f})%\".format(num_selected/num_events*100, err*100))"
   ]
  },
  {
   "cell_type": "code",
   "execution_count": 11,
   "metadata": {},
   "outputs": [
    {
     "name": "stdout",
     "output_type": "stream",
     "text": [
      "Selection efficiency of nueCC with mc fiducial volume\n",
      "Number of events: 9\n",
      "Number of passed events: 7\n",
      "Selected: (77.8+-13.9)%\n"
     ]
    }
   ],
   "source": [
    "print(\"Selection efficiency of nueCC with mc fiducial volume\")\n",
    "flashid_vtx_mc = file_flashid.pandas.df(['nuVertexX', 'nuVertexY', 'nuVertexZ'])\n",
    "flashid_events_fiducial_mc =  inTPC_df(flashid_vtx_mc, 'nuVertexX', 'nuVertexY', 'nuVertexZ', fidvol_arr)\n",
    "num_events_fidvol = sum(flashid_events_fiducial_mc)\n",
    "print(\"Number of events:\", num_events_fidvol)\n",
    "nuecc_vtx_mc = nuecc_events.pandas.df(['mc_nu_vx', 'mc_nu_vy', 'mc_nu_vz'])\n",
    "nuecc_events_fiducial_mc =  inTPC_df(nuecc_vtx_mc, 'mc_nu_vx', 'mc_nu_vy', 'mc_nu_vz', fidvol_arr)\n",
    "num_selected_fidvol = sum(nuecc_events_fiducial_mc)\n",
    "print(\"Number of passed events:\", num_selected_fidvol)\n",
    "err = np.sqrt(num_selected_fidvol*(num_events_fidvol-num_selected_fidvol)/num_events_fidvol**3)\n",
    "print(\"Selected: ({0:.1f}+-{1:.1f})%\".format(num_selected_fidvol/num_events_fidvol*100, err*100))"
   ]
  },
  {
   "cell_type": "code",
   "execution_count": 12,
   "metadata": {},
   "outputs": [
    {
     "name": "stdout",
     "output_type": "stream",
     "text": [
      "--- Availible branches ---\n",
      "\n",
      "file_flashid:\n",
      "['run', 'subRun', 'event', 'nFlashes', 'nFlashesInBeamWindow', 'hasBeamFlash', 'nSlices', 'nSlicesAfterPrecuts', 'foundATargetSlice', 'targetSliceMethod', 'nuInteractionType', 'nuCCNC', 'nuEnergy', 'leptonEnergy', 'nuInteractionTime', 'nuPdgCode', 'nuVertexX', 'nuVertexY', 'nuVertexZ']\n",
      "\n",
      "nuecc_events:\n",
      "['event', 'run', 'subrun', 'numpfp', 'hitsU', 'hitsV', 'hitsY', 'hitsSps', 'num_primary_daughters', 'num_daughters', 'num_showers', 'num_tracks', 'daughters_stored', 'nu_vx', 'nu_vy', 'nu_vz', 'nu_pdg', 'num_neutrinos', 'mc_nu_vx', 'mc_nu_vy', 'mc_nu_vz', 'mc_nu_vx_sce', 'mc_nu_vy_sce', 'mc_nu_vz_sce', 'mc_nu_energy', 'mc_nu_lepton_energy', 'mc_nu_lepton_theta', 'mc_nu_time', 'mc_nu_pdg', 'mc_nu_interaction_type', 'mc_nu_ccnc', 'mc_nu_vtx_distance', 'num_matched_daughters', 'cosmic_matched', 'mc_nu_daughter_matched', 'mc_nu_daughter_pdg', 'mc_nu_daughter_energy']\n",
      "\n",
      "nuecc_daughters:\n",
      "['event', 'run', 'subrun', 'numpfp', 'hitsU', 'hitsV', 'hitsY', 'hitsSps', 'generation', 'track_score', 'is_shower', 'is_track', 'has_shower_daughter', 'is_track_daughter', 'vx', 'vy', 'vz', 'mc_neutrino', 'mc_vx', 'mc_vy', 'mc_vz', 'mc_vx_sce', 'mc_vy_sce', 'mc_vz_sce', 'mc_energy', 'mc_pdg']\n"
     ]
    }
   ],
   "source": [
    "print('--- Availible branches ---')\n",
    "print('\\nfile_flashid:')\n",
    "print( [key.decode(\"utf-8\") for key in file_flashid.keys()])\n",
    "print('\\nnuecc_events:')\n",
    "print( [key.decode(\"utf-8\") for key in nuecc_events.keys()])\n",
    "print('\\nnuecc_daughters:')\n",
    "print( [key.decode(\"utf-8\") for key in nuecc_daughters.keys()])"
   ]
  },
  {
   "cell_type": "code",
   "execution_count": 13,
   "metadata": {},
   "outputs": [],
   "source": [
    "# define fiducial vol masks:\n",
    "mask_mcfv = nuecc_events_fiducial_mc"
   ]
  },
  {
   "cell_type": "code",
   "execution_count": 17,
   "metadata": {},
   "outputs": [
    {
     "name": "stdout",
     "output_type": "stream",
     "text": [
      "Number of electrons per selected event\n",
      "(array([1]), array([7]))\n",
      "Number of reconstructed electrons per selected event\n",
      "(array([1]), array([7]))\n"
     ]
    }
   ],
   "source": [
    "mc_daughters = nuecc_events.arrays([\"mc_nu_daughter_matched\", \"mc_nu_daughter_pdg\", \"mc_nu_daughter_energy\"])\n",
    "#mc_daughters[b'mc_nu_daughter_pdg'].pandas()\n",
    "#print(len(mc_daughters[b'mc_nu_daughter_pdg'][mask_mcfv])\n",
    "\n",
    "# how  many of the events have an electron daughter?\n",
    "print('Number of electrons per selected event')\n",
    "electron_mask = (abs(mc_daughters[b'mc_nu_daughter_pdg'][mask_mcfv])==13)\n",
    "electron_count = electron_mask.sum()\n",
    "print(np.unique(electron_count, return_counts=True))\n",
    "\n",
    "# how many have a reconstructed electron:\n",
    "print('Number of reconstructed electrons per selected event')\n",
    "electron_reco_mask = (abs(mc_daughters[b'mc_nu_daughter_pdg'][mask_mcfv]*mc_daughters[b'mc_nu_daughter_matched'][mask_mcfv])==13)\n",
    "electron_reco_count = electron_reco_mask.sum()\n",
    "print(np.unique(electron_reco_count, return_counts=True))"
   ]
  },
  {
   "cell_type": "code",
   "execution_count": 18,
   "metadata": {},
   "outputs": [
    {
     "ename": "NameError",
     "evalue": "name 'matched_electron_energy' is not defined",
     "output_type": "error",
     "traceback": [
      "\u001b[0;31m---------------------------------------------------------------------------\u001b[0m",
      "\u001b[0;31mNameError\u001b[0m                                 Traceback (most recent call last)",
      "\u001b[0;32m<ipython-input-18-25ef9738667e>\u001b[0m in \u001b[0;36m<module>\u001b[0;34m()\u001b[0m\n\u001b[1;32m      7\u001b[0m \u001b[0max\u001b[0m\u001b[0;34m[\u001b[0m\u001b[0;36m0\u001b[0m\u001b[0;34m]\u001b[0m\u001b[0;34m.\u001b[0m\u001b[0mlegend\u001b[0m\u001b[0;34m(\u001b[0m\u001b[0;34m)\u001b[0m\u001b[0;34m\u001b[0m\u001b[0m\n\u001b[1;32m      8\u001b[0m \u001b[0;34m\u001b[0m\u001b[0m\n\u001b[0;32m----> 9\u001b[0;31m \u001b[0max\u001b[0m\u001b[0;34m[\u001b[0m\u001b[0;36m1\u001b[0m\u001b[0;34m]\u001b[0m\u001b[0;34m.\u001b[0m\u001b[0mhist\u001b[0m\u001b[0;34m(\u001b[0m\u001b[0mmatched_electron_energy\u001b[0m\u001b[0;34m,\u001b[0m \u001b[0mhisttype\u001b[0m\u001b[0;34m=\u001b[0m\u001b[0;34m'step'\u001b[0m\u001b[0;34m,\u001b[0m \u001b[0mlabel\u001b[0m \u001b[0;34m=\u001b[0m \u001b[0;34m'Daughter energies'\u001b[0m\u001b[0;34m,\u001b[0m \u001b[0mrange\u001b[0m\u001b[0;34m=\u001b[0m\u001b[0;34m(\u001b[0m\u001b[0;36m0\u001b[0m\u001b[0;34m,\u001b[0m\u001b[0;36m3\u001b[0m\u001b[0;34m)\u001b[0m\u001b[0;34m,\u001b[0m \u001b[0mbins\u001b[0m\u001b[0;34m=\u001b[0m\u001b[0;36m30\u001b[0m \u001b[0;34m)\u001b[0m\u001b[0;34m\u001b[0m\u001b[0m\n\u001b[0m\u001b[1;32m     10\u001b[0m \u001b[0max\u001b[0m\u001b[0;34m[\u001b[0m\u001b[0;36m1\u001b[0m\u001b[0;34m]\u001b[0m\u001b[0;34m.\u001b[0m\u001b[0mhist\u001b[0m\u001b[0;34m(\u001b[0m\u001b[0melectron_energy_reco\u001b[0m\u001b[0;34m,\u001b[0m \u001b[0mhisttype\u001b[0m\u001b[0;34m=\u001b[0m\u001b[0;34m'step'\u001b[0m\u001b[0;34m,\u001b[0m \u001b[0mlabel\u001b[0m \u001b[0;34m=\u001b[0m \u001b[0;34m'Reconstructed electrons'\u001b[0m\u001b[0;34m,\u001b[0m \u001b[0mrange\u001b[0m\u001b[0;34m=\u001b[0m\u001b[0;34m(\u001b[0m\u001b[0;36m0\u001b[0m\u001b[0;34m,\u001b[0m\u001b[0;36m3\u001b[0m\u001b[0;34m)\u001b[0m\u001b[0;34m,\u001b[0m \u001b[0mbins\u001b[0m\u001b[0;34m=\u001b[0m\u001b[0;36m30\u001b[0m \u001b[0;34m)\u001b[0m\u001b[0;34m\u001b[0m\u001b[0m\n\u001b[1;32m     11\u001b[0m \u001b[0max\u001b[0m\u001b[0;34m[\u001b[0m\u001b[0;36m1\u001b[0m\u001b[0;34m]\u001b[0m\u001b[0;34m.\u001b[0m\u001b[0mlegend\u001b[0m\u001b[0;34m(\u001b[0m\u001b[0;34m)\u001b[0m\u001b[0;34m\u001b[0m\u001b[0m\n",
      "\u001b[0;31mNameError\u001b[0m: name 'matched_electron_energy' is not defined"
     ]
    },
    {
     "data": {
      "image/png": "[encoded data removed]",
      "text/plain": [
       "<Figure size 582.48x288 with 2 Axes>"
      ]
     },
     "metadata": {
      "needs_background": "light"
     },
     "output_type": "display_data"
    }
   ],
   "source": [
    "electron_energy_reco = mc_daughters[b'mc_nu_daughter_energy'][mask_mcfv][electron_reco_mask].content\n",
    "electron_energy_all = mc_daughters[b'mc_nu_daughter_energy'][mask_mcfv][electron_mask].content\n",
    "\n",
    "fig,ax=plt.subplots(ncols=2,nrows=1,figsize=(5*gr,4), sharex=True, sharey=True)\n",
    "\n",
    "ax[0].hist([electron_energy_all,electron_energy_reco], histtype='step', label = ['All electrons', 'Reconstructed electrons'], range=(0,3), bins=30 )\n",
    "ax[0].legend()\n",
    "\n",
    "ax[1].hist(matched_electron_energy, histtype='step', label = 'Daughter energies', range=(0,3), bins=30 )\n",
    "ax[1].hist(electron_energy_reco, histtype='step', label = 'Reconstructed electrons', range=(0,3), bins=30 )\n",
    "ax[1].legend()"
   ]
  },
  {
   "cell_type": "code",
   "execution_count": 20,
   "metadata": {},
   "outputs": [
    {
     "name": "stdout",
     "output_type": "stream",
     "text": [
      "Percent of selected events with vertex within 1cm: 0.0\n"
     ]
    },
    {
     "data": {
      "text/plain": [
       "Text(2,800,'Within 1cm: 0.0%')"
      ]
     },
     "execution_count": 20,
     "metadata": {},
     "output_type": "execute_result"
    },
    {
     "ename": "ValueError",
     "evalue": "Image size of 404x1581545 pixels is too large. It must be less than 2^16 in each direction.",
     "output_type": "error",
     "traceback": [
      "\u001b[0;31m---------------------------------------------------------------------------\u001b[0m",
      "\u001b[0;31mValueError\u001b[0m                                Traceback (most recent call last)",
      "\u001b[0;32m~/Binaries/miniconda3/envs/uprootenv/lib/python3.5/site-packages/IPython/core/formatters.py\u001b[0m in \u001b[0;36m__call__\u001b[0;34m(self, obj)\u001b[0m\n\u001b[1;32m    339\u001b[0m                 \u001b[0;32mpass\u001b[0m\u001b[0;34m\u001b[0m\u001b[0m\n\u001b[1;32m    340\u001b[0m             \u001b[0;32melse\u001b[0m\u001b[0;34m:\u001b[0m\u001b[0;34m\u001b[0m\u001b[0m\n\u001b[0;32m--> 341\u001b[0;31m                 \u001b[0;32mreturn\u001b[0m \u001b[0mprinter\u001b[0m\u001b[0;34m(\u001b[0m\u001b[0mobj\u001b[0m\u001b[0;34m)\u001b[0m\u001b[0;34m\u001b[0m\u001b[0m\n\u001b[0m\u001b[1;32m    342\u001b[0m             \u001b[0;31m# Finally look for special method names\u001b[0m\u001b[0;34m\u001b[0m\u001b[0;34m\u001b[0m\u001b[0m\n\u001b[1;32m    343\u001b[0m             \u001b[0mmethod\u001b[0m \u001b[0;34m=\u001b[0m \u001b[0mget_real_method\u001b[0m\u001b[0;34m(\u001b[0m\u001b[0mobj\u001b[0m\u001b[0;34m,\u001b[0m \u001b[0mself\u001b[0m\u001b[0;34m.\u001b[0m\u001b[0mprint_method\u001b[0m\u001b[0;34m)\u001b[0m\u001b[0;34m\u001b[0m\u001b[0m\n",
      "\u001b[0;32m~/Binaries/miniconda3/envs/uprootenv/lib/python3.5/site-packages/IPython/core/pylabtools.py\u001b[0m in \u001b[0;36m<lambda>\u001b[0;34m(fig)\u001b[0m\n\u001b[1;32m    239\u001b[0m \u001b[0;34m\u001b[0m\u001b[0m\n\u001b[1;32m    240\u001b[0m     \u001b[0;32mif\u001b[0m \u001b[0;34m'png'\u001b[0m \u001b[0;32min\u001b[0m \u001b[0mformats\u001b[0m\u001b[0;34m:\u001b[0m\u001b[0;34m\u001b[0m\u001b[0m\n\u001b[0;32m--> 241\u001b[0;31m         \u001b[0mpng_formatter\u001b[0m\u001b[0;34m.\u001b[0m\u001b[0mfor_type\u001b[0m\u001b[0;34m(\u001b[0m\u001b[0mFigure\u001b[0m\u001b[0;34m,\u001b[0m \u001b[0;32mlambda\u001b[0m \u001b[0mfig\u001b[0m\u001b[0;34m:\u001b[0m \u001b[0mprint_figure\u001b[0m\u001b[0;34m(\u001b[0m\u001b[0mfig\u001b[0m\u001b[0;34m,\u001b[0m \u001b[0;34m'png'\u001b[0m\u001b[0;34m,\u001b[0m \u001b[0;34m**\u001b[0m\u001b[0mkwargs\u001b[0m\u001b[0;34m)\u001b[0m\u001b[0;34m)\u001b[0m\u001b[0;34m\u001b[0m\u001b[0m\n\u001b[0m\u001b[1;32m    242\u001b[0m     \u001b[0;32mif\u001b[0m \u001b[0;34m'retina'\u001b[0m \u001b[0;32min\u001b[0m \u001b[0mformats\u001b[0m \u001b[0;32mor\u001b[0m \u001b[0;34m'png2x'\u001b[0m \u001b[0;32min\u001b[0m \u001b[0mformats\u001b[0m\u001b[0;34m:\u001b[0m\u001b[0;34m\u001b[0m\u001b[0m\n\u001b[1;32m    243\u001b[0m         \u001b[0mpng_formatter\u001b[0m\u001b[0;34m.\u001b[0m\u001b[0mfor_type\u001b[0m\u001b[0;34m(\u001b[0m\u001b[0mFigure\u001b[0m\u001b[0;34m,\u001b[0m \u001b[0;32mlambda\u001b[0m \u001b[0mfig\u001b[0m\u001b[0;34m:\u001b[0m \u001b[0mretina_figure\u001b[0m\u001b[0;34m(\u001b[0m\u001b[0mfig\u001b[0m\u001b[0;34m,\u001b[0m \u001b[0;34m**\u001b[0m\u001b[0mkwargs\u001b[0m\u001b[0;34m)\u001b[0m\u001b[0;34m)\u001b[0m\u001b[0;34m\u001b[0m\u001b[0m\n",
      "\u001b[0;32m~/Binaries/miniconda3/envs/uprootenv/lib/python3.5/site-packages/IPython/core/pylabtools.py\u001b[0m in \u001b[0;36mprint_figure\u001b[0;34m(fig, fmt, bbox_inches, **kwargs)\u001b[0m\n\u001b[1;32m    123\u001b[0m \u001b[0;34m\u001b[0m\u001b[0m\n\u001b[1;32m    124\u001b[0m     \u001b[0mbytes_io\u001b[0m \u001b[0;34m=\u001b[0m \u001b[0mBytesIO\u001b[0m\u001b[0;34m(\u001b[0m\u001b[0;34m)\u001b[0m\u001b[0;34m\u001b[0m\u001b[0m\n\u001b[0;32m--> 125\u001b[0;31m     \u001b[0mfig\u001b[0m\u001b[0;34m.\u001b[0m\u001b[0mcanvas\u001b[0m\u001b[0;34m.\u001b[0m\u001b[0mprint_figure\u001b[0m\u001b[0;34m(\u001b[0m\u001b[0mbytes_io\u001b[0m\u001b[0;34m,\u001b[0m \u001b[0;34m**\u001b[0m\u001b[0mkw\u001b[0m\u001b[0;34m)\u001b[0m\u001b[0;34m\u001b[0m\u001b[0m\n\u001b[0m\u001b[1;32m    126\u001b[0m     \u001b[0mdata\u001b[0m \u001b[0;34m=\u001b[0m \u001b[0mbytes_io\u001b[0m\u001b[0;34m.\u001b[0m\u001b[0mgetvalue\u001b[0m\u001b[0;34m(\u001b[0m\u001b[0;34m)\u001b[0m\u001b[0;34m\u001b[0m\u001b[0m\n\u001b[1;32m    127\u001b[0m     \u001b[0;32mif\u001b[0m \u001b[0mfmt\u001b[0m \u001b[0;34m==\u001b[0m \u001b[0;34m'svg'\u001b[0m\u001b[0;34m:\u001b[0m\u001b[0;34m\u001b[0m\u001b[0m\n",
      "\u001b[0;32m~/Binaries/miniconda3/envs/uprootenv/lib/python3.5/site-packages/matplotlib/backend_bases.py\u001b[0m in \u001b[0;36mprint_figure\u001b[0;34m(self, filename, dpi, facecolor, edgecolor, orientation, format, **kwargs)\u001b[0m\n\u001b[1;32m   2261\u001b[0m                 \u001b[0morientation\u001b[0m\u001b[0;34m=\u001b[0m\u001b[0morientation\u001b[0m\u001b[0;34m,\u001b[0m\u001b[0;34m\u001b[0m\u001b[0m\n\u001b[1;32m   2262\u001b[0m                 \u001b[0mbbox_inches_restore\u001b[0m\u001b[0;34m=\u001b[0m\u001b[0m_bbox_inches_restore\u001b[0m\u001b[0;34m,\u001b[0m\u001b[0;34m\u001b[0m\u001b[0m\n\u001b[0;32m-> 2263\u001b[0;31m                 **kwargs)\n\u001b[0m\u001b[1;32m   2264\u001b[0m         \u001b[0;32mfinally\u001b[0m\u001b[0;34m:\u001b[0m\u001b[0;34m\u001b[0m\u001b[0m\n\u001b[1;32m   2265\u001b[0m             \u001b[0;32mif\u001b[0m \u001b[0mbbox_inches\u001b[0m \u001b[0;32mand\u001b[0m \u001b[0mrestore_bbox\u001b[0m\u001b[0;34m:\u001b[0m\u001b[0;34m\u001b[0m\u001b[0m\n",
      "\u001b[0;32m~/Binaries/miniconda3/envs/uprootenv/lib/python3.5/site-packages/matplotlib/backends/backend_agg.py\u001b[0m in \u001b[0;36mprint_png\u001b[0;34m(self, filename_or_obj, *args, **kwargs)\u001b[0m\n\u001b[1;32m    515\u001b[0m \u001b[0;34m\u001b[0m\u001b[0m\n\u001b[1;32m    516\u001b[0m     \u001b[0;32mdef\u001b[0m \u001b[0mprint_png\u001b[0m\u001b[0;34m(\u001b[0m\u001b[0mself\u001b[0m\u001b[0;34m,\u001b[0m \u001b[0mfilename_or_obj\u001b[0m\u001b[0;34m,\u001b[0m \u001b[0;34m*\u001b[0m\u001b[0margs\u001b[0m\u001b[0;34m,\u001b[0m \u001b[0;34m**\u001b[0m\u001b[0mkwargs\u001b[0m\u001b[0;34m)\u001b[0m\u001b[0;34m:\u001b[0m\u001b[0;34m\u001b[0m\u001b[0m\n\u001b[0;32m--> 517\u001b[0;31m         \u001b[0mFigureCanvasAgg\u001b[0m\u001b[0;34m.\u001b[0m\u001b[0mdraw\u001b[0m\u001b[0;34m(\u001b[0m\u001b[0mself\u001b[0m\u001b[0;34m)\u001b[0m\u001b[0;34m\u001b[0m\u001b[0m\n\u001b[0m\u001b[1;32m    518\u001b[0m         \u001b[0mrenderer\u001b[0m \u001b[0;34m=\u001b[0m \u001b[0mself\u001b[0m\u001b[0;34m.\u001b[0m\u001b[0mget_renderer\u001b[0m\u001b[0;34m(\u001b[0m\u001b[0;34m)\u001b[0m\u001b[0;34m\u001b[0m\u001b[0m\n\u001b[1;32m    519\u001b[0m         \u001b[0moriginal_dpi\u001b[0m \u001b[0;34m=\u001b[0m \u001b[0mrenderer\u001b[0m\u001b[0;34m.\u001b[0m\u001b[0mdpi\u001b[0m\u001b[0;34m\u001b[0m\u001b[0m\n",
      "\u001b[0;32m~/Binaries/miniconda3/envs/uprootenv/lib/python3.5/site-packages/matplotlib/backends/backend_agg.py\u001b[0m in \u001b[0;36mdraw\u001b[0;34m(self)\u001b[0m\n\u001b[1;32m    427\u001b[0m         \u001b[0mDraw\u001b[0m \u001b[0mthe\u001b[0m \u001b[0mfigure\u001b[0m \u001b[0musing\u001b[0m \u001b[0mthe\u001b[0m \u001b[0mrenderer\u001b[0m\u001b[0;34m\u001b[0m\u001b[0m\n\u001b[1;32m    428\u001b[0m         \"\"\"\n\u001b[0;32m--> 429\u001b[0;31m         \u001b[0mself\u001b[0m\u001b[0;34m.\u001b[0m\u001b[0mrenderer\u001b[0m \u001b[0;34m=\u001b[0m \u001b[0mself\u001b[0m\u001b[0;34m.\u001b[0m\u001b[0mget_renderer\u001b[0m\u001b[0;34m(\u001b[0m\u001b[0mcleared\u001b[0m\u001b[0;34m=\u001b[0m\u001b[0;32mTrue\u001b[0m\u001b[0;34m)\u001b[0m\u001b[0;34m\u001b[0m\u001b[0m\n\u001b[0m\u001b[1;32m    430\u001b[0m         \u001b[0;31m# acquire a lock on the shared font cache\u001b[0m\u001b[0;34m\u001b[0m\u001b[0;34m\u001b[0m\u001b[0m\n\u001b[1;32m    431\u001b[0m         \u001b[0mRendererAgg\u001b[0m\u001b[0;34m.\u001b[0m\u001b[0mlock\u001b[0m\u001b[0;34m.\u001b[0m\u001b[0macquire\u001b[0m\u001b[0;34m(\u001b[0m\u001b[0;34m)\u001b[0m\u001b[0;34m\u001b[0m\u001b[0m\n",
      "\u001b[0;32m~/Binaries/miniconda3/envs/uprootenv/lib/python3.5/site-packages/matplotlib/backends/backend_agg.py\u001b[0m in \u001b[0;36mget_renderer\u001b[0;34m(self, cleared)\u001b[0m\n\u001b[1;32m    452\u001b[0m \u001b[0;34m\u001b[0m\u001b[0m\n\u001b[1;32m    453\u001b[0m         \u001b[0;32mif\u001b[0m \u001b[0mneed_new_renderer\u001b[0m\u001b[0;34m:\u001b[0m\u001b[0;34m\u001b[0m\u001b[0m\n\u001b[0;32m--> 454\u001b[0;31m             \u001b[0mself\u001b[0m\u001b[0;34m.\u001b[0m\u001b[0mrenderer\u001b[0m \u001b[0;34m=\u001b[0m \u001b[0mRendererAgg\u001b[0m\u001b[0;34m(\u001b[0m\u001b[0mw\u001b[0m\u001b[0;34m,\u001b[0m \u001b[0mh\u001b[0m\u001b[0;34m,\u001b[0m \u001b[0mself\u001b[0m\u001b[0;34m.\u001b[0m\u001b[0mfigure\u001b[0m\u001b[0;34m.\u001b[0m\u001b[0mdpi\u001b[0m\u001b[0;34m)\u001b[0m\u001b[0;34m\u001b[0m\u001b[0m\n\u001b[0m\u001b[1;32m    455\u001b[0m             \u001b[0mself\u001b[0m\u001b[0;34m.\u001b[0m\u001b[0m_lastKey\u001b[0m \u001b[0;34m=\u001b[0m \u001b[0mkey\u001b[0m\u001b[0;34m\u001b[0m\u001b[0m\n\u001b[1;32m    456\u001b[0m         \u001b[0;32melif\u001b[0m \u001b[0mcleared\u001b[0m\u001b[0;34m:\u001b[0m\u001b[0;34m\u001b[0m\u001b[0m\n",
      "\u001b[0;32m~/Binaries/miniconda3/envs/uprootenv/lib/python3.5/site-packages/matplotlib/backends/backend_agg.py\u001b[0m in \u001b[0;36m__init__\u001b[0;34m(self, width, height, dpi)\u001b[0m\n\u001b[1;32m     99\u001b[0m         \u001b[0mself\u001b[0m\u001b[0;34m.\u001b[0m\u001b[0mwidth\u001b[0m \u001b[0;34m=\u001b[0m \u001b[0mwidth\u001b[0m\u001b[0;34m\u001b[0m\u001b[0m\n\u001b[1;32m    100\u001b[0m         \u001b[0mself\u001b[0m\u001b[0;34m.\u001b[0m\u001b[0mheight\u001b[0m \u001b[0;34m=\u001b[0m \u001b[0mheight\u001b[0m\u001b[0;34m\u001b[0m\u001b[0m\n\u001b[0;32m--> 101\u001b[0;31m         \u001b[0mself\u001b[0m\u001b[0;34m.\u001b[0m\u001b[0m_renderer\u001b[0m \u001b[0;34m=\u001b[0m \u001b[0m_RendererAgg\u001b[0m\u001b[0;34m(\u001b[0m\u001b[0mint\u001b[0m\u001b[0;34m(\u001b[0m\u001b[0mwidth\u001b[0m\u001b[0;34m)\u001b[0m\u001b[0;34m,\u001b[0m \u001b[0mint\u001b[0m\u001b[0;34m(\u001b[0m\u001b[0mheight\u001b[0m\u001b[0;34m)\u001b[0m\u001b[0;34m,\u001b[0m \u001b[0mdpi\u001b[0m\u001b[0;34m)\u001b[0m\u001b[0;34m\u001b[0m\u001b[0m\n\u001b[0m\u001b[1;32m    102\u001b[0m         \u001b[0mself\u001b[0m\u001b[0;34m.\u001b[0m\u001b[0m_filter_renderers\u001b[0m \u001b[0;34m=\u001b[0m \u001b[0;34m[\u001b[0m\u001b[0;34m]\u001b[0m\u001b[0;34m\u001b[0m\u001b[0m\n\u001b[1;32m    103\u001b[0m \u001b[0;34m\u001b[0m\u001b[0m\n",
      "\u001b[0;31mValueError\u001b[0m: Image size of 404x1581545 pixels is too large. It must be less than 2^16 in each direction."
     ]
    },
    {
     "data": {
      "text/plain": [
       "<Figure size 432x288 with 1 Axes>"
      ]
     },
     "metadata": {
      "needs_background": "light"
     },
     "output_type": "display_data"
    }
   ],
   "source": [
    "plt.hist(nuecc_events.array('mc_nu_vtx_distance')[mask_mcfv], bins=100,range=(0,5))\n",
    "mask_mcfv_1cm = nuecc_events.array(b'mc_nu_vtx_distance')[mask_mcfv]<1\n",
    "fraq = sum(mask_mcfv_1cm)/num_selected_fidvol*100\n",
    "print(\"Percent of selected events with vertex within 1cm:\",fraq)\n",
    "plt.title(r\"Reconstructed vertex 3D distance for $\\nu_e$ intrinsic\")\n",
    "plt.xlabel('distance from true vertex [cm]')\n",
    "plt.ylabel('events per bin [cm]')\n",
    "plt.text(2,800,\"Within 1cm: {0:.1f}%\".format(fraq), fontsize=12)"
   ]
  },
  {
   "cell_type": "code",
   "execution_count": 21,
   "metadata": {},
   "outputs": [
    {
     "name": "stdout",
     "output_type": "stream",
     "text": [
      "7\n",
      "0\n",
      "0.0\n"
     ]
    }
   ],
   "source": [
    "mask_mcfv_pure = nuecc_events.array('cosmic_matched')[mask_mcfv]\n",
    "# Mask means that the true vertex was within the fiducial volume, is reconstructed within 1cm and no daughters are cosmic matched\n",
    "mask_mc_ok = ~mask_mcfv_pure & mask_mcfv_1cm\n",
    "print(len(mask_mc_ok))\n",
    "print(sum(mask_mc_ok))\n",
    "print(sum(mask_mc_ok)/len(mask_mc_ok))"
   ]
  },
  {
   "cell_type": "code",
   "execution_count": 22,
   "metadata": {
    "scrolled": true
   },
   "outputs": [
    {
     "name": "stdout",
     "output_type": "stream",
     "text": [
      "uint32\n"
     ]
    },
    {
     "data": {
      "image/png": "[encoded data removed]",
      "text/plain": [
       "<Figure size 432x288 with 1 Axes>"
      ]
     },
     "metadata": {
      "needs_background": "light"
     },
     "output_type": "display_data"
    },
    {
     "name": "stdout",
     "output_type": "stream",
     "text": [
      "uint32\n"
     ]
    },
    {
     "data": {
      "image/png": "[encoded data removed]",
      "text/plain": [
       "<Figure size 432x288 with 1 Axes>"
      ]
     },
     "metadata": {
      "needs_background": "light"
     },
     "output_type": "display_data"
    },
    {
     "name": "stdout",
     "output_type": "stream",
     "text": [
      "uint32\n"
     ]
    },
    {
     "data": {
      "image/png": "[encoded data removed]",
      "text/plain": [
       "<Figure size 432x288 with 1 Axes>"
      ]
     },
     "metadata": {
      "needs_background": "light"
     },
     "output_type": "display_data"
    },
    {
     "name": "stdout",
     "output_type": "stream",
     "text": [
      "uint32\n"
     ]
    },
    {
     "data": {
      "image/png": "[encoded data removed]",
      "text/plain": [
       "<Figure size 432x288 with 1 Axes>"
      ]
     },
     "metadata": {
      "needs_background": "light"
     },
     "output_type": "display_data"
    },
    {
     "name": "stdout",
     "output_type": "stream",
     "text": [
      "uint32\n"
     ]
    },
    {
     "data": {
      "image/png": "[encoded data removed]",
      "text/plain": [
       "<Figure size 432x288 with 1 Axes>"
      ]
     },
     "metadata": {
      "needs_background": "light"
     },
     "output_type": "display_data"
    },
    {
     "name": "stdout",
     "output_type": "stream",
     "text": [
      "uint32\n"
     ]
    },
    {
     "data": {
      "image/png": "[encoded data removed]",
      "text/plain": [
       "<Figure size 432x288 with 1 Axes>"
      ]
     },
     "metadata": {
      "needs_background": "light"
     },
     "output_type": "display_data"
    },
    {
     "name": "stdout",
     "output_type": "stream",
     "text": [
      "uint32\n"
     ]
    },
    {
     "data": {
      "image/png": "[encoded data removed]",
      "text/plain": [
       "<Figure size 432x288 with 1 Axes>"
      ]
     },
     "metadata": {
      "needs_background": "light"
     },
     "output_type": "display_data"
    },
    {
     "name": "stdout",
     "output_type": "stream",
     "text": [
      "uint32\n"
     ]
    },
    {
     "data": {
      "image/png": "[encoded data removed]",
      "text/plain": [
       "<Figure size 432x288 with 1 Axes>"
      ]
     },
     "metadata": {
      "needs_background": "light"
     },
     "output_type": "display_data"
    },
    {
     "name": "stdout",
     "output_type": "stream",
     "text": [
      "uint32\n"
     ]
    },
    {
     "data": {
      "image/png": "[encoded data removed]",
      "text/plain": [
       "<Figure size 432x288 with 1 Axes>"
      ]
     },
     "metadata": {
      "needs_background": "light"
     },
     "output_type": "display_data"
    },
    {
     "name": "stdout",
     "output_type": "stream",
     "text": [
      "uint32\n"
     ]
    },
    {
     "data": {
      "image/png": "[encoded data removed]",
      "text/plain": [
       "<Figure size 432x288 with 1 Axes>"
      ]
     },
     "metadata": {
      "needs_background": "light"
     },
     "output_type": "display_data"
    },
    {
     "name": "stdout",
     "output_type": "stream",
     "text": [
      "uint32\n"
     ]
    },
    {
     "data": {
      "image/png": "[encoded data removed]",
      "text/plain": [
       "<Figure size 432x288 with 1 Axes>"
      ]
     },
     "metadata": {
      "needs_background": "light"
     },
     "output_type": "display_data"
    },
    {
     "name": "stdout",
     "output_type": "stream",
     "text": [
      "uint32\n"
     ]
    },
    {
     "data": {
      "image/png": "[encoded data removed]",
      "text/plain": [
       "<Figure size 432x288 with 1 Axes>"
      ]
     },
     "metadata": {
      "needs_background": "light"
     },
     "output_type": "display_data"
    },
    {
     "name": "stdout",
     "output_type": "stream",
     "text": [
      "bool\n"
     ]
    },
    {
     "data": {
      "image/png": "[encoded data removed]",
      "text/plain": [
       "<Figure size 432x288 with 1 Axes>"
      ]
     },
     "metadata": {
      "needs_background": "light"
     },
     "output_type": "display_data"
    },
    {
     "name": "stdout",
     "output_type": "stream",
     "text": [
      "float32\n"
     ]
    },
    {
     "data": {
      "image/png": "[encoded data removed]",
      "text/plain": [
       "<Figure size 432x288 with 1 Axes>"
      ]
     },
     "metadata": {
      "needs_background": "light"
     },
     "output_type": "display_data"
    },
    {
     "name": "stdout",
     "output_type": "stream",
     "text": [
      "float32\n"
     ]
    },
    {
     "data": {
      "image/png": "[encoded data removed]",
      "text/plain": [
       "<Figure size 432x288 with 1 Axes>"
      ]
     },
     "metadata": {
      "needs_background": "light"
     },
     "output_type": "display_data"
    },
    {
     "name": "stdout",
     "output_type": "stream",
     "text": [
      "float32\n"
     ]
    },
    {
     "data": {
      "image/png": "[encoded data removed]",
      "text/plain": [
       "<Figure size 432x288 with 1 Axes>"
      ]
     },
     "metadata": {
      "needs_background": "light"
     },
     "output_type": "display_data"
    },
    {
     "name": "stdout",
     "output_type": "stream",
     "text": [
      "int32\n"
     ]
    },
    {
     "data": {
      "image/png": "[encoded data removed]",
      "text/plain": [
       "<Figure size 432x288 with 1 Axes>"
      ]
     },
     "metadata": {
      "needs_background": "light"
     },
     "output_type": "display_data"
    },
    {
     "name": "stdout",
     "output_type": "stream",
     "text": [
      "uint32\n"
     ]
    },
    {
     "data": {
      "image/png": "[encoded data removed]",
      "text/plain": [
       "<Figure size 432x288 with 1 Axes>"
      ]
     },
     "metadata": {
      "needs_background": "light"
     },
     "output_type": "display_data"
    },
    {
     "name": "stdout",
     "output_type": "stream",
     "text": [
      "float32\n"
     ]
    },
    {
     "data": {
      "image/png": "[encoded data removed]",
      "text/plain": [
       "<Figure size 432x288 with 1 Axes>"
      ]
     },
     "metadata": {
      "needs_background": "light"
     },
     "output_type": "display_data"
    },
    {
     "name": "stdout",
     "output_type": "stream",
     "text": [
      "float32\n"
     ]
    },
    {
     "data": {
      "image/png": "[encoded data removed]",
      "text/plain": [
       "<Figure size 432x288 with 1 Axes>"
      ]
     },
     "metadata": {
      "needs_background": "light"
     },
     "output_type": "display_data"
    },
    {
     "name": "stdout",
     "output_type": "stream",
     "text": [
      "float32\n"
     ]
    },
    {
     "data": {
      "image/png": "[encoded data removed]",
      "text/plain": [
       "<Figure size 432x288 with 1 Axes>"
      ]
     },
     "metadata": {
      "needs_background": "light"
     },
     "output_type": "display_data"
    },
    {
     "name": "stdout",
     "output_type": "stream",
     "text": [
      "float32\n"
     ]
    },
    {
     "data": {
      "image/png": "[encoded data removed]",
      "text/plain": [
       "<Figure size 432x288 with 1 Axes>"
      ]
     },
     "metadata": {
      "needs_background": "light"
     },
     "output_type": "display_data"
    },
    {
     "name": "stdout",
     "output_type": "stream",
     "text": [
      "float32\n"
     ]
    },
    {
     "data": {
      "image/png": "[encoded data removed]",
      "text/plain": [
       "<Figure size 432x288 with 1 Axes>"
      ]
     },
     "metadata": {
      "needs_background": "light"
     },
     "output_type": "display_data"
    },
    {
     "name": "stdout",
     "output_type": "stream",
     "text": [
      "float32\n"
     ]
    },
    {
     "data": {
      "image/png": "[encoded data removed]",
      "text/plain": [
       "<Figure size 432x288 with 1 Axes>"
      ]
     },
     "metadata": {
      "needs_background": "light"
     },
     "output_type": "display_data"
    },
    {
     "name": "stdout",
     "output_type": "stream",
     "text": [
      "float32\n"
     ]
    },
    {
     "data": {
      "image/png": "[encoded data removed]",
      "text/plain": [
       "<Figure size 432x288 with 1 Axes>"
      ]
     },
     "metadata": {
      "needs_background": "light"
     },
     "output_type": "display_data"
    },
    {
     "name": "stdout",
     "output_type": "stream",
     "text": [
      "float32\n"
     ]
    },
    {
     "data": {
      "image/png": "[encoded data removed]",
      "text/plain": [
       "<Figure size 432x288 with 1 Axes>"
      ]
     },
     "metadata": {
      "needs_background": "light"
     },
     "output_type": "display_data"
    },
    {
     "name": "stdout",
     "output_type": "stream",
     "text": [
      "float32\n"
     ]
    },
    {
     "data": {
      "image/png": "[encoded data removed]",
      "text/plain": [
       "<Figure size 432x288 with 1 Axes>"
      ]
     },
     "metadata": {
      "needs_background": "light"
     },
     "output_type": "display_data"
    },
    {
     "name": "stdout",
     "output_type": "stream",
     "text": [
      "float32\n"
     ]
    },
    {
     "data": {
      "image/png": "[encoded data removed]",
      "text/plain": [
       "<Figure size 432x288 with 1 Axes>"
      ]
     },
     "metadata": {
      "needs_background": "light"
     },
     "output_type": "display_data"
    },
    {
     "name": "stdout",
     "output_type": "stream",
     "text": [
      "int32\n"
     ]
    },
    {
     "data": {
      "image/png": "[encoded data removed]",
      "text/plain": [
       "<Figure size 432x288 with 1 Axes>"
      ]
     },
     "metadata": {
      "needs_background": "light"
     },
     "output_type": "display_data"
    },
    {
     "name": "stdout",
     "output_type": "stream",
     "text": [
      "int32\n"
     ]
    },
    {
     "data": {
      "image/png": "[encoded data removed]",
      "text/plain": [
       "<Figure size 432x288 with 1 Axes>"
      ]
     },
     "metadata": {
      "needs_background": "light"
     },
     "output_type": "display_data"
    },
    {
     "name": "stdout",
     "output_type": "stream",
     "text": [
      "bool\n"
     ]
    },
    {
     "data": {
      "image/png": "[encoded data removed]",
      "text/plain": [
       "<Figure size 432x288 with 1 Axes>"
      ]
     },
     "metadata": {
      "needs_background": "light"
     },
     "output_type": "display_data"
    },
    {
     "name": "stdout",
     "output_type": "stream",
     "text": [
      "float32\n"
     ]
    },
    {
     "data": {
      "image/png": "[encoded data removed]",
      "text/plain": [
       "<Figure size 432x288 with 1 Axes>"
      ]
     },
     "metadata": {
      "needs_background": "light"
     },
     "output_type": "display_data"
    },
    {
     "name": "stdout",
     "output_type": "stream",
     "text": [
      "uint32\n"
     ]
    },
    {
     "data": {
      "image/png": "[encoded data removed]",
      "text/plain": [
       "<Figure size 432x288 with 1 Axes>"
      ]
     },
     "metadata": {
      "needs_background": "light"
     },
     "output_type": "display_data"
    },
    {
     "name": "stdout",
     "output_type": "stream",
     "text": [
      "bool\n"
     ]
    },
    {
     "data": {
      "image/png": "[encoded data removed]",
      "text/plain": [
       "<Figure size 432x288 with 1 Axes>"
      ]
     },
     "metadata": {
      "needs_background": "light"
     },
     "output_type": "display_data"
    },
    {
     "name": "stdout",
     "output_type": "stream",
     "text": [
      "object\n",
      "object\n",
      "object\n"
     ]
    }
   ],
   "source": [
    "for key in nuecc_events.keys():\n",
    "    field = nuecc_events.array(key)\n",
    "    print(field.dtype)\n",
    "    if field.dtype == np.bool:\n",
    "        field = 1*field\n",
    "    if field.dtype == object:\n",
    "        continue\n",
    "    plt.hist(field, bins=50)\n",
    "    plt.xlabel(key.decode(\"utf-8\"))\n",
    "    plt.show()"
   ]
  },
  {
   "cell_type": "code",
   "execution_count": 23,
   "metadata": {},
   "outputs": [
    {
     "data": {
      "text/plain": [
       "-2"
      ]
     },
     "execution_count": 23,
     "metadata": {},
     "output_type": "execute_result"
    }
   ],
   "source": [
    "# Aantal events met dochter(s) die geen match hadden, ondanks dat de dochter opgeslagen is.\n",
    "unmatched_daughters = nuecc_events.array(b'num_daughters')-nuecc_events.array(b'num_matched_daughters')\n",
    "sum((unmatched_daughters==0)*1-1*nuecc_events.array(b'daughters_stored'))"
   ]
  },
  {
   "cell_type": "markdown",
   "metadata": {},
   "source": [
    "## Reconstructed daughters "
   ]
  },
  {
   "cell_type": "code",
   "execution_count": 24,
   "metadata": {},
   "outputs": [],
   "source": [
    "hash_events = eventHash(nuecc_events.pandas.df(['event', 'run', 'subrun', 'numpfp']))\n",
    "hash_fidvol = dictionary = dict(zip(hash_events, mask_mcfv))"
   ]
  },
  {
   "cell_type": "code",
   "execution_count": 25,
   "metadata": {},
   "outputs": [],
   "source": [
    "df_daughters = nuecc_daughters.pandas.df()\n",
    "df_daughters['broken_pfp'] = df_daughters.duplicated(subset=['mc_energy', 'mc_vx', 'mc_vy', 'mc_vz'], keep=False)\n",
    "df_daughters['event_hash'] = eventHash(df_daughters[['event', 'run', 'subrun', 'numpfp']])\n",
    "df_daughters['mc_nu_fidvol'] = df_daughters['event_hash'].map(hash_fidvol)"
   ]
  },
  {
   "cell_type": "code",
   "execution_count": 26,
   "metadata": {},
   "outputs": [
    {
     "data": {
      "text/html": [
       "<div>\n",
       "<style scoped>\n",
       "    .dataframe tbody tr th:only-of-type {\n",
       "        vertical-align: middle;\n",
       "    }\n",
       "\n",
       "    .dataframe tbody tr th {\n",
       "        vertical-align: top;\n",
       "    }\n",
       "\n",
       "    .dataframe thead th {\n",
       "        text-align: right;\n",
       "    }\n",
       "</style>\n",
       "<table border=\"1\" class=\"dataframe\">\n",
       "  <thead>\n",
       "    <tr style=\"text-align: right;\">\n",
       "      <th></th>\n",
       "      <th>event</th>\n",
       "      <th>run</th>\n",
       "      <th>subrun</th>\n",
       "      <th>numpfp</th>\n",
       "      <th>hitsU</th>\n",
       "      <th>hitsV</th>\n",
       "      <th>hitsY</th>\n",
       "      <th>hitsSps</th>\n",
       "      <th>generation</th>\n",
       "      <th>track_score</th>\n",
       "      <th>is_shower</th>\n",
       "      <th>is_track</th>\n",
       "      <th>has_shower_daughter</th>\n",
       "      <th>is_track_daughter</th>\n",
       "      <th>vx</th>\n",
       "      <th>vy</th>\n",
       "      <th>vz</th>\n",
       "      <th>mc_neutrino</th>\n",
       "      <th>mc_vx</th>\n",
       "      <th>mc_vy</th>\n",
       "      <th>mc_vz</th>\n",
       "      <th>mc_vx_sce</th>\n",
       "      <th>mc_vy_sce</th>\n",
       "      <th>mc_vz_sce</th>\n",
       "      <th>mc_energy</th>\n",
       "      <th>mc_pdg</th>\n",
       "      <th>broken_pfp</th>\n",
       "      <th>event_hash</th>\n",
       "      <th>mc_nu_fidvol</th>\n",
       "    </tr>\n",
       "  </thead>\n",
       "  <tbody>\n",
       "    <tr>\n",
       "      <th>0</th>\n",
       "      <td>5051</td>\n",
       "      <td>5340</td>\n",
       "      <td>101</td>\n",
       "      <td>88</td>\n",
       "      <td>356</td>\n",
       "      <td>216</td>\n",
       "      <td>580</td>\n",
       "      <td>1119</td>\n",
       "      <td>2</td>\n",
       "      <td>1.000000</td>\n",
       "      <td>False</td>\n",
       "      <td>True</td>\n",
       "      <td>False</td>\n",
       "      <td>False</td>\n",
       "      <td>163.910034</td>\n",
       "      <td>80.424332</td>\n",
       "      <td>849.039307</td>\n",
       "      <td>True</td>\n",
       "      <td>158.638672</td>\n",
       "      <td>86.378830</td>\n",
       "      <td>849.371582</td>\n",
       "      <td>-1.282479e+09</td>\n",
       "      <td>80.224792</td>\n",
       "      <td>849.156921</td>\n",
       "      <td>1.072356</td>\n",
       "      <td>13</td>\n",
       "      <td>False</td>\n",
       "      <td>-4629487884832513869</td>\n",
       "      <td>True</td>\n",
       "    </tr>\n",
       "    <tr>\n",
       "      <th>1</th>\n",
       "      <td>5073</td>\n",
       "      <td>5340</td>\n",
       "      <td>101</td>\n",
       "      <td>119</td>\n",
       "      <td>604</td>\n",
       "      <td>142</td>\n",
       "      <td>690</td>\n",
       "      <td>1407</td>\n",
       "      <td>2</td>\n",
       "      <td>1.000000</td>\n",
       "      <td>False</td>\n",
       "      <td>True</td>\n",
       "      <td>False</td>\n",
       "      <td>False</td>\n",
       "      <td>78.426575</td>\n",
       "      <td>110.161552</td>\n",
       "      <td>403.305420</td>\n",
       "      <td>True</td>\n",
       "      <td>79.737175</td>\n",
       "      <td>133.943420</td>\n",
       "      <td>369.286011</td>\n",
       "      <td>-1.286399e+09</td>\n",
       "      <td>133.943420</td>\n",
       "      <td>369.286011</td>\n",
       "      <td>0.893851</td>\n",
       "      <td>13</td>\n",
       "      <td>True</td>\n",
       "      <td>-3366605135273365626</td>\n",
       "      <td>False</td>\n",
       "    </tr>\n",
       "    <tr>\n",
       "      <th>2</th>\n",
       "      <td>5073</td>\n",
       "      <td>5340</td>\n",
       "      <td>101</td>\n",
       "      <td>119</td>\n",
       "      <td>16</td>\n",
       "      <td>5</td>\n",
       "      <td>0</td>\n",
       "      <td>20</td>\n",
       "      <td>2</td>\n",
       "      <td>0.836143</td>\n",
       "      <td>False</td>\n",
       "      <td>True</td>\n",
       "      <td>False</td>\n",
       "      <td>False</td>\n",
       "      <td>78.382759</td>\n",
       "      <td>112.539833</td>\n",
       "      <td>400.165588</td>\n",
       "      <td>True</td>\n",
       "      <td>79.737175</td>\n",
       "      <td>133.943420</td>\n",
       "      <td>369.286011</td>\n",
       "      <td>-1.286399e+09</td>\n",
       "      <td>133.943420</td>\n",
       "      <td>369.286011</td>\n",
       "      <td>0.893851</td>\n",
       "      <td>13</td>\n",
       "      <td>True</td>\n",
       "      <td>-3366605135273365626</td>\n",
       "      <td>False</td>\n",
       "    </tr>\n",
       "    <tr>\n",
       "      <th>3</th>\n",
       "      <td>5083</td>\n",
       "      <td>5340</td>\n",
       "      <td>101</td>\n",
       "      <td>120</td>\n",
       "      <td>86</td>\n",
       "      <td>539</td>\n",
       "      <td>471</td>\n",
       "      <td>773</td>\n",
       "      <td>2</td>\n",
       "      <td>0.999961</td>\n",
       "      <td>False</td>\n",
       "      <td>True</td>\n",
       "      <td>False</td>\n",
       "      <td>False</td>\n",
       "      <td>232.659485</td>\n",
       "      <td>14.499506</td>\n",
       "      <td>38.130718</td>\n",
       "      <td>True</td>\n",
       "      <td>226.803284</td>\n",
       "      <td>14.853570</td>\n",
       "      <td>30.059517</td>\n",
       "      <td>-1.289602e+09</td>\n",
       "      <td>14.384757</td>\n",
       "      <td>38.652290</td>\n",
       "      <td>0.877618</td>\n",
       "      <td>13</td>\n",
       "      <td>False</td>\n",
       "      <td>5596947923752566899</td>\n",
       "      <td>True</td>\n",
       "    </tr>\n",
       "    <tr>\n",
       "      <th>4</th>\n",
       "      <td>5095</td>\n",
       "      <td>5340</td>\n",
       "      <td>101</td>\n",
       "      <td>108</td>\n",
       "      <td>298</td>\n",
       "      <td>395</td>\n",
       "      <td>84</td>\n",
       "      <td>542</td>\n",
       "      <td>2</td>\n",
       "      <td>0.743972</td>\n",
       "      <td>False</td>\n",
       "      <td>True</td>\n",
       "      <td>False</td>\n",
       "      <td>False</td>\n",
       "      <td>82.046478</td>\n",
       "      <td>-65.740128</td>\n",
       "      <td>309.011810</td>\n",
       "      <td>True</td>\n",
       "      <td>77.755028</td>\n",
       "      <td>-63.012253</td>\n",
       "      <td>309.598114</td>\n",
       "      <td>-1.293823e+09</td>\n",
       "      <td>-61.756786</td>\n",
       "      <td>309.678894</td>\n",
       "      <td>0.428354</td>\n",
       "      <td>13</td>\n",
       "      <td>False</td>\n",
       "      <td>2215041119789477155</td>\n",
       "      <td>True</td>\n",
       "    </tr>\n",
       "    <tr>\n",
       "      <th>5</th>\n",
       "      <td>5095</td>\n",
       "      <td>5340</td>\n",
       "      <td>101</td>\n",
       "      <td>108</td>\n",
       "      <td>15</td>\n",
       "      <td>0</td>\n",
       "      <td>15</td>\n",
       "      <td>29</td>\n",
       "      <td>2</td>\n",
       "      <td>0.790384</td>\n",
       "      <td>False</td>\n",
       "      <td>True</td>\n",
       "      <td>False</td>\n",
       "      <td>False</td>\n",
       "      <td>82.126053</td>\n",
       "      <td>-65.178955</td>\n",
       "      <td>312.383301</td>\n",
       "      <td>True</td>\n",
       "      <td>77.755028</td>\n",
       "      <td>-63.012253</td>\n",
       "      <td>309.598114</td>\n",
       "      <td>-1.293823e+09</td>\n",
       "      <td>-61.756786</td>\n",
       "      <td>309.678894</td>\n",
       "      <td>1.037107</td>\n",
       "      <td>2212</td>\n",
       "      <td>True</td>\n",
       "      <td>2215041119789477155</td>\n",
       "      <td>True</td>\n",
       "    </tr>\n",
       "    <tr>\n",
       "      <th>6</th>\n",
       "      <td>5123</td>\n",
       "      <td>5340</td>\n",
       "      <td>102</td>\n",
       "      <td>99</td>\n",
       "      <td>904</td>\n",
       "      <td>308</td>\n",
       "      <td>317</td>\n",
       "      <td>23</td>\n",
       "      <td>2</td>\n",
       "      <td>1.000000</td>\n",
       "      <td>False</td>\n",
       "      <td>True</td>\n",
       "      <td>False</td>\n",
       "      <td>False</td>\n",
       "      <td>155.397293</td>\n",
       "      <td>-13.850476</td>\n",
       "      <td>694.281738</td>\n",
       "      <td>True</td>\n",
       "      <td>77.755028</td>\n",
       "      <td>-63.012253</td>\n",
       "      <td>309.598114</td>\n",
       "      <td>-1.293823e+09</td>\n",
       "      <td>-61.756786</td>\n",
       "      <td>309.678894</td>\n",
       "      <td>1.037107</td>\n",
       "      <td>2212</td>\n",
       "      <td>True</td>\n",
       "      <td>-1080951380180923457</td>\n",
       "      <td>True</td>\n",
       "    </tr>\n",
       "    <tr>\n",
       "      <th>7</th>\n",
       "      <td>5123</td>\n",
       "      <td>5340</td>\n",
       "      <td>102</td>\n",
       "      <td>99</td>\n",
       "      <td>96</td>\n",
       "      <td>355</td>\n",
       "      <td>473</td>\n",
       "      <td>845</td>\n",
       "      <td>2</td>\n",
       "      <td>0.999984</td>\n",
       "      <td>False</td>\n",
       "      <td>True</td>\n",
       "      <td>True</td>\n",
       "      <td>False</td>\n",
       "      <td>121.423912</td>\n",
       "      <td>-67.585709</td>\n",
       "      <td>526.315247</td>\n",
       "      <td>True</td>\n",
       "      <td>116.393288</td>\n",
       "      <td>-70.774651</td>\n",
       "      <td>526.207947</td>\n",
       "      <td>-1.301398e+09</td>\n",
       "      <td>-67.733337</td>\n",
       "      <td>526.148926</td>\n",
       "      <td>0.459835</td>\n",
       "      <td>13</td>\n",
       "      <td>True</td>\n",
       "      <td>-1080951380180923457</td>\n",
       "      <td>True</td>\n",
       "    </tr>\n",
       "    <tr>\n",
       "      <th>8</th>\n",
       "      <td>5123</td>\n",
       "      <td>5340</td>\n",
       "      <td>102</td>\n",
       "      <td>99</td>\n",
       "      <td>31</td>\n",
       "      <td>71</td>\n",
       "      <td>19</td>\n",
       "      <td>83</td>\n",
       "      <td>3</td>\n",
       "      <td>0.125525</td>\n",
       "      <td>True</td>\n",
       "      <td>False</td>\n",
       "      <td>False</td>\n",
       "      <td>True</td>\n",
       "      <td>131.577667</td>\n",
       "      <td>-17.909346</td>\n",
       "      <td>668.400024</td>\n",
       "      <td>True</td>\n",
       "      <td>116.393288</td>\n",
       "      <td>-70.774651</td>\n",
       "      <td>526.207947</td>\n",
       "      <td>-1.301398e+09</td>\n",
       "      <td>-67.733337</td>\n",
       "      <td>526.148926</td>\n",
       "      <td>0.459835</td>\n",
       "      <td>13</td>\n",
       "      <td>True</td>\n",
       "      <td>-1080951380180923457</td>\n",
       "      <td>True</td>\n",
       "    </tr>\n",
       "    <tr>\n",
       "      <th>9</th>\n",
       "      <td>5144</td>\n",
       "      <td>5340</td>\n",
       "      <td>102</td>\n",
       "      <td>89</td>\n",
       "      <td>172</td>\n",
       "      <td>65</td>\n",
       "      <td>350</td>\n",
       "      <td>548</td>\n",
       "      <td>2</td>\n",
       "      <td>0.999863</td>\n",
       "      <td>False</td>\n",
       "      <td>True</td>\n",
       "      <td>False</td>\n",
       "      <td>False</td>\n",
       "      <td>110.730835</td>\n",
       "      <td>-19.510635</td>\n",
       "      <td>4.174397</td>\n",
       "      <td>True</td>\n",
       "      <td>70.446045</td>\n",
       "      <td>1.341539</td>\n",
       "      <td>-68.807816</td>\n",
       "      <td>-1.305355e+09</td>\n",
       "      <td>1.341539</td>\n",
       "      <td>-68.807816</td>\n",
       "      <td>0.668526</td>\n",
       "      <td>13</td>\n",
       "      <td>False</td>\n",
       "      <td>3939898858941429208</td>\n",
       "      <td>False</td>\n",
       "    </tr>\n",
       "    <tr>\n",
       "      <th>10</th>\n",
       "      <td>5156</td>\n",
       "      <td>5340</td>\n",
       "      <td>103</td>\n",
       "      <td>93</td>\n",
       "      <td>549</td>\n",
       "      <td>641</td>\n",
       "      <td>1178</td>\n",
       "      <td>2277</td>\n",
       "      <td>2</td>\n",
       "      <td>1.000000</td>\n",
       "      <td>False</td>\n",
       "      <td>True</td>\n",
       "      <td>False</td>\n",
       "      <td>False</td>\n",
       "      <td>150.925629</td>\n",
       "      <td>74.970314</td>\n",
       "      <td>571.748474</td>\n",
       "      <td>True</td>\n",
       "      <td>145.714691</td>\n",
       "      <td>79.679527</td>\n",
       "      <td>572.290649</td>\n",
       "      <td>-1.307315e+09</td>\n",
       "      <td>74.575012</td>\n",
       "      <td>572.222107</td>\n",
       "      <td>1.811927</td>\n",
       "      <td>13</td>\n",
       "      <td>True</td>\n",
       "      <td>558365602151957789</td>\n",
       "      <td>True</td>\n",
       "    </tr>\n",
       "    <tr>\n",
       "      <th>11</th>\n",
       "      <td>5156</td>\n",
       "      <td>5340</td>\n",
       "      <td>103</td>\n",
       "      <td>93</td>\n",
       "      <td>153</td>\n",
       "      <td>88</td>\n",
       "      <td>147</td>\n",
       "      <td>294</td>\n",
       "      <td>2</td>\n",
       "      <td>0.502909</td>\n",
       "      <td>False</td>\n",
       "      <td>True</td>\n",
       "      <td>False</td>\n",
       "      <td>False</td>\n",
       "      <td>157.985397</td>\n",
       "      <td>68.018196</td>\n",
       "      <td>768.120239</td>\n",
       "      <td>True</td>\n",
       "      <td>145.714691</td>\n",
       "      <td>79.679527</td>\n",
       "      <td>572.290649</td>\n",
       "      <td>-1.307315e+09</td>\n",
       "      <td>74.575012</td>\n",
       "      <td>572.222107</td>\n",
       "      <td>1.811927</td>\n",
       "      <td>13</td>\n",
       "      <td>True</td>\n",
       "      <td>558365602151957789</td>\n",
       "      <td>True</td>\n",
       "    </tr>\n",
       "    <tr>\n",
       "      <th>12</th>\n",
       "      <td>5156</td>\n",
       "      <td>5340</td>\n",
       "      <td>103</td>\n",
       "      <td>93</td>\n",
       "      <td>9</td>\n",
       "      <td>21</td>\n",
       "      <td>10</td>\n",
       "      <td>31</td>\n",
       "      <td>2</td>\n",
       "      <td>0.952798</td>\n",
       "      <td>False</td>\n",
       "      <td>True</td>\n",
       "      <td>False</td>\n",
       "      <td>False</td>\n",
       "      <td>150.648193</td>\n",
       "      <td>73.125793</td>\n",
       "      <td>571.154907</td>\n",
       "      <td>True</td>\n",
       "      <td>145.714691</td>\n",
       "      <td>79.679527</td>\n",
       "      <td>572.290649</td>\n",
       "      <td>-1.307315e+09</td>\n",
       "      <td>74.575012</td>\n",
       "      <td>572.222107</td>\n",
       "      <td>1.032922</td>\n",
       "      <td>2212</td>\n",
       "      <td>False</td>\n",
       "      <td>558365602151957789</td>\n",
       "      <td>True</td>\n",
       "    </tr>\n",
       "    <tr>\n",
       "      <th>13</th>\n",
       "      <td>5178</td>\n",
       "      <td>5340</td>\n",
       "      <td>103</td>\n",
       "      <td>32</td>\n",
       "      <td>31</td>\n",
       "      <td>48</td>\n",
       "      <td>71</td>\n",
       "      <td>142</td>\n",
       "      <td>2</td>\n",
       "      <td>0.923469</td>\n",
       "      <td>False</td>\n",
       "      <td>True</td>\n",
       "      <td>False</td>\n",
       "      <td>False</td>\n",
       "      <td>256.322998</td>\n",
       "      <td>67.166061</td>\n",
       "      <td>634.377869</td>\n",
       "      <td>True</td>\n",
       "      <td>314.235321</td>\n",
       "      <td>3.872554</td>\n",
       "      <td>545.353271</td>\n",
       "      <td>-1.313872e+09</td>\n",
       "      <td>3.872554</td>\n",
       "      <td>545.353271</td>\n",
       "      <td>0.662857</td>\n",
       "      <td>13</td>\n",
       "      <td>False</td>\n",
       "      <td>276084808050049578</td>\n",
       "      <td>False</td>\n",
       "    </tr>\n",
       "    <tr>\n",
       "      <th>14</th>\n",
       "      <td>5181</td>\n",
       "      <td>5340</td>\n",
       "      <td>103</td>\n",
       "      <td>90</td>\n",
       "      <td>117</td>\n",
       "      <td>191</td>\n",
       "      <td>54</td>\n",
       "      <td>317</td>\n",
       "      <td>2</td>\n",
       "      <td>0.958854</td>\n",
       "      <td>False</td>\n",
       "      <td>True</td>\n",
       "      <td>False</td>\n",
       "      <td>False</td>\n",
       "      <td>160.006943</td>\n",
       "      <td>-108.115204</td>\n",
       "      <td>80.152328</td>\n",
       "      <td>True</td>\n",
       "      <td>134.651886</td>\n",
       "      <td>-139.913071</td>\n",
       "      <td>76.357841</td>\n",
       "      <td>-1.314890e+09</td>\n",
       "      <td>-139.913071</td>\n",
       "      <td>76.357841</td>\n",
       "      <td>0.396550</td>\n",
       "      <td>13</td>\n",
       "      <td>False</td>\n",
       "      <td>2716260258761967469</td>\n",
       "      <td>False</td>\n",
       "    </tr>\n",
       "  </tbody>\n",
       "</table>\n",
       "</div>"
      ],
      "text/plain": [
       "    event   run  subrun  numpfp  hitsU  hitsV  hitsY  hitsSps  generation  \\\n",
       "0    5051  5340     101      88    356    216    580     1119           2   \n",
       "1    5073  5340     101     119    604    142    690     1407           2   \n",
       "2    5073  5340     101     119     16      5      0       20           2   \n",
       "3    5083  5340     101     120     86    539    471      773           2   \n",
       "4    5095  5340     101     108    298    395     84      542           2   \n",
       "5    5095  5340     101     108     15      0     15       29           2   \n",
       "6    5123  5340     102      99    904    308    317       23           2   \n",
       "7    5123  5340     102      99     96    355    473      845           2   \n",
       "8    5123  5340     102      99     31     71     19       83           3   \n",
       "9    5144  5340     102      89    172     65    350      548           2   \n",
       "10   5156  5340     103      93    549    641   1178     2277           2   \n",
       "11   5156  5340     103      93    153     88    147      294           2   \n",
       "12   5156  5340     103      93      9     21     10       31           2   \n",
       "13   5178  5340     103      32     31     48     71      142           2   \n",
       "14   5181  5340     103      90    117    191     54      317           2   \n",
       "\n",
       "    track_score  is_shower  is_track  has_shower_daughter  is_track_daughter  \\\n",
       "0      1.000000      False      True                False              False   \n",
       "1      1.000000      False      True                False              False   \n",
       "2      0.836143      False      True                False              False   \n",
       "3      0.999961      False      True                False              False   \n",
       "4      0.743972      False      True                False              False   \n",
       "5      0.790384      False      True                False              False   \n",
       "6      1.000000      False      True                False              False   \n",
       "7      0.999984      False      True                 True              False   \n",
       "8      0.125525       True     False                False               True   \n",
       "9      0.999863      False      True                False              False   \n",
       "10     1.000000      False      True                False              False   \n",
       "11     0.502909      False      True                False              False   \n",
       "12     0.952798      False      True                False              False   \n",
       "13     0.923469      False      True                False              False   \n",
       "14     0.958854      False      True                False              False   \n",
       "\n",
       "            vx          vy          vz  mc_neutrino       mc_vx       mc_vy  \\\n",
       "0   163.910034   80.424332  849.039307         True  158.638672   86.378830   \n",
       "1    78.426575  110.161552  403.305420         True   79.737175  133.943420   \n",
       "2    78.382759  112.539833  400.165588         True   79.737175  133.943420   \n",
       "3   232.659485   14.499506   38.130718         True  226.803284   14.853570   \n",
       "4    82.046478  -65.740128  309.011810         True   77.755028  -63.012253   \n",
       "5    82.126053  -65.178955  312.383301         True   77.755028  -63.012253   \n",
       "6   155.397293  -13.850476  694.281738         True   77.755028  -63.012253   \n",
       "7   121.423912  -67.585709  526.315247         True  116.393288  -70.774651   \n",
       "8   131.577667  -17.909346  668.400024         True  116.393288  -70.774651   \n",
       "9   110.730835  -19.510635    4.174397         True   70.446045    1.341539   \n",
       "10  150.925629   74.970314  571.748474         True  145.714691   79.679527   \n",
       "11  157.985397   68.018196  768.120239         True  145.714691   79.679527   \n",
       "12  150.648193   73.125793  571.154907         True  145.714691   79.679527   \n",
       "13  256.322998   67.166061  634.377869         True  314.235321    3.872554   \n",
       "14  160.006943 -108.115204   80.152328         True  134.651886 -139.913071   \n",
       "\n",
       "         mc_vz     mc_vx_sce   mc_vy_sce   mc_vz_sce  mc_energy  mc_pdg  \\\n",
       "0   849.371582 -1.282479e+09   80.224792  849.156921   1.072356      13   \n",
       "1   369.286011 -1.286399e+09  133.943420  369.286011   0.893851      13   \n",
       "2   369.286011 -1.286399e+09  133.943420  369.286011   0.893851      13   \n",
       "3    30.059517 -1.289602e+09   14.384757   38.652290   0.877618      13   \n",
       "4   309.598114 -1.293823e+09  -61.756786  309.678894   0.428354      13   \n",
       "5   309.598114 -1.293823e+09  -61.756786  309.678894   1.037107    2212   \n",
       "6   309.598114 -1.293823e+09  -61.756786  309.678894   1.037107    2212   \n",
       "7   526.207947 -1.301398e+09  -67.733337  526.148926   0.459835      13   \n",
       "8   526.207947 -1.301398e+09  -67.733337  526.148926   0.459835      13   \n",
       "9   -68.807816 -1.305355e+09    1.341539  -68.807816   0.668526      13   \n",
       "10  572.290649 -1.307315e+09   74.575012  572.222107   1.811927      13   \n",
       "11  572.290649 -1.307315e+09   74.575012  572.222107   1.811927      13   \n",
       "12  572.290649 -1.307315e+09   74.575012  572.222107   1.032922    2212   \n",
       "13  545.353271 -1.313872e+09    3.872554  545.353271   0.662857      13   \n",
       "14   76.357841 -1.314890e+09 -139.913071   76.357841   0.396550      13   \n",
       "\n",
       "    broken_pfp           event_hash  mc_nu_fidvol  \n",
       "0        False -4629487884832513869          True  \n",
       "1         True -3366605135273365626         False  \n",
       "2         True -3366605135273365626         False  \n",
       "3        False  5596947923752566899          True  \n",
       "4        False  2215041119789477155          True  \n",
       "5         True  2215041119789477155          True  \n",
       "6         True -1080951380180923457          True  \n",
       "7         True -1080951380180923457          True  \n",
       "8         True -1080951380180923457          True  \n",
       "9        False  3939898858941429208         False  \n",
       "10        True   558365602151957789          True  \n",
       "11        True   558365602151957789          True  \n",
       "12       False   558365602151957789          True  \n",
       "13       False   276084808050049578         False  \n",
       "14       False  2716260258761967469         False  "
      ]
     },
     "execution_count": 26,
     "metadata": {},
     "output_type": "execute_result"
    }
   ],
   "source": [
    "df_daughters.head(15)"
   ]
  },
  {
   "cell_type": "code",
   "execution_count": null,
   "metadata": {},
   "outputs": [],
   "source": [
    "len(df_daughters.query('mc_pdg==11 & mc_neutrino & ~broken_pfp'))"
   ]
  },
  {
   "cell_type": "code",
   "execution_count": null,
   "metadata": {
    "scrolled": false
   },
   "outputs": [],
   "source": [
    "matched_electron_energy = df_daughters.query('abs(mc_pdg)==11 & mc_neutrino & mc_nu_fidvol').drop_duplicates(subset=['mc_pdg', 'mc_energy', 'mc_energy', 'mc_vx', 'mc_vy', 'mc_vz'])['mc_energy']"
   ]
  },
  {
   "cell_type": "code",
   "execution_count": null,
   "metadata": {},
   "outputs": [],
   "source": [
    "len(matched_electron_energy)"
   ]
  },
  {
   "cell_type": "code",
   "execution_count": null,
   "metadata": {},
   "outputs": [],
   "source": []
  }
 ],
 "metadata": {
  "kernelspec": {
   "display_name": "Uproot Env",
   "language": "python",
   "name": "uprootenv"
  },
  "language_info": {
   "codemirror_mode": {
    "name": "ipython",
    "version": 3
   },
   "file_extension": ".py",
   "mimetype": "text/x-python",
   "name": "python",
   "nbconvert_exporter": "python",
   "pygments_lexer": "ipython3",
   "version": "3.5.6"
  }
 },
 "nbformat": 4,
 "nbformat_minor": 2
}
