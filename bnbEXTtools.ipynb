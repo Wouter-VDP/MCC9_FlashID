{
 "cells": [
  {
   "cell_type": "code",
   "execution_count": 1,
   "metadata": {},
   "outputs": [],
   "source": [
    "import uproot\n",
    "import matplotlib.pyplot as plt\n",
    "import numpy as np\n",
    "import pandas as pd\n",
    "import os\n",
    "import helpfunction as helper"
   ]
  },
  {
   "cell_type": "code",
   "execution_count": 2,
   "metadata": {},
   "outputs": [],
   "source": [
    "%matplotlib inline"
   ]
  },
  {
   "cell_type": "code",
   "execution_count": 3,
   "metadata": {},
   "outputs": [],
   "source": [
    "inputdir = './input/ImprovedMay/run3/' "
   ]
  },
  {
   "cell_type": "code",
   "execution_count": 4,
   "metadata": {},
   "outputs": [],
   "source": [
    "dict_names = ['nue','nu','on','off']"
   ]
  },
  {
   "cell_type": "markdown",
   "metadata": {},
   "source": [
    "# Sandbox"
   ]
  },
  {
   "cell_type": "code",
   "execution_count": 5,
   "metadata": {},
   "outputs": [
    {
     "data": {
      "text/plain": [
       "[b'nuCCAnalyser;1',\n",
       " b'nuCCAnalyser/Event;1',\n",
       " b'nuCCAnalyser/Daughters;1',\n",
       " b'nuCCAnalyser/subruns;1',\n",
       " b'pandoraSliceId;1',\n",
       " b'pandoraSliceId/metadata;1',\n",
       " b'pandoraSliceId/events;1',\n",
       " b'pandoraSliceId/flashes;1',\n",
       " b'pandoraSliceId/slices;1',\n",
       " b'shrreco3d;1',\n",
       " b'shrreco3d/_energy_tree;1',\n",
       " b'shrreco3d/_dedx_tree;1',\n",
       " b'shrreco3d/_rcshr_tree;1',\n",
       " b'trackmatch;1',\n",
       " b'trackmatch/hTrackLength;1',\n",
       " b'trackmatch/hOpeningAngle;1',\n",
       " b'trackmatch/hDistOne;1',\n",
       " b'trackmatch/hDist0;1',\n",
       " b'trackmatch/hDist1;1',\n",
       " b'trackmatch/hDist2;1',\n",
       " b'trackmatch/hDist3;1',\n",
       " b'trackmatch/hDistAn;1',\n",
       " b'trackmatch/hDistCa;1',\n",
       " b'trackmatch/hDistNone;1',\n",
       " b'trackmatch/hTimeBest;1',\n",
       " b'FRH;1',\n",
       " b'FRV;1',\n",
       " b'rICKR;1',\n",
       " b'rICKI;1',\n",
       " b'PreC;1',\n",
       " b'PostC;1',\n",
       " b'PostO;1',\n",
       " b'PreD;1',\n",
       " b'PostDO;1',\n",
       " b'ER;1']"
      ]
     },
     "execution_count": 5,
     "metadata": {},
     "output_type": "execute_result"
    }
   ],
   "source": [
    "file = uproot.open( './input/ImprovedMay/flashID_tree.root')\n",
    "file.keys(\"a\")         "
   ]
  },
  {
   "cell_type": "code",
   "execution_count": 6,
   "metadata": {},
   "outputs": [
    {
     "data": {
      "text/plain": [
       "[b'sliceId',\n",
       " b'run',\n",
       " b'subRun',\n",
       " b'event',\n",
       " b'evt_time_sec',\n",
       " b'evt_time_nsec',\n",
       " b'hasDeposition',\n",
       " b'totalCharge',\n",
       " b'centerX',\n",
       " b'centerY',\n",
       " b'centerZ',\n",
       " b'minCRTdist',\n",
       " b'CRTtime',\n",
       " b'CRTplane',\n",
       " b'CRTtrackscore',\n",
       " b'CRTnumtracks',\n",
       " b'deltaY',\n",
       " b'deltaZ',\n",
       " b'deltaYSigma',\n",
       " b'deltaZSigma',\n",
       " b'chargeToLightRatio',\n",
       " b'xclVariable',\n",
       " b'passesPreCuts',\n",
       " b'flashMatchScore',\n",
       " b'totalPEHypothesis',\n",
       " b'peHypothesisSpectrum',\n",
       " b'isTaggedAsTarget',\n",
       " b'targetMethod',\n",
       " b'isConsideredByFlashId',\n",
       " b'topologicalScore',\n",
       " b'hasBestTopologicalScore',\n",
       " b'hasBestFlashMatchScore',\n",
       " b'nHits',\n",
       " b'purity',\n",
       " b'completeness',\n",
       " b'isMostComplete',\n",
       " b'nuInteractionType',\n",
       " b'nuCCNC',\n",
       " b'nuEnergy',\n",
       " b'leptonEnergy',\n",
       " b'nuInteractionTime',\n",
       " b'nuPdgCode',\n",
       " b'nuVertexX',\n",
       " b'nuVertexY',\n",
       " b'nuVertexZ']"
      ]
     },
     "execution_count": 6,
     "metadata": {},
     "output_type": "execute_result"
    }
   ],
   "source": [
    "slices = file['pandoraSliceId/slices']\n",
    "slices.numentries\n",
    "slices.keys()"
   ]
  },
  {
   "cell_type": "code",
   "execution_count": 8,
   "metadata": {},
   "outputs": [
    {
     "data": {
      "text/plain": [
       "(array([  0., 220.,   0.,   0.,   0.,   8.,   0.,   0.,   0.,   0.,   0.,\n",
       "          0.,   0.,   0.,   0.,   0.,   0.,   0.,   0.,   0.]),\n",
       " array([-1.  , -0.45,  0.1 ,  0.65,  1.2 ,  1.75,  2.3 ,  2.85,  3.4 ,\n",
       "         3.95,  4.5 ,  5.05,  5.6 ,  6.15,  6.7 ,  7.25,  7.8 ,  8.35,\n",
       "         8.9 ,  9.45, 10.  ], dtype=float32),\n",
       " <a list of 20 Patch objects>)"
      ]
     },
     "execution_count": 8,
     "metadata": {},
     "output_type": "execute_result"
    },
    {
     "data": {
      "image/png": "[encoded data removed]",
      "text/plain": [
       "<Figure size 432x288 with 1 Axes>"
      ]
     },
     "metadata": {
      "needs_background": "light"
     },
     "output_type": "display_data"
    }
   ],
   "source": [
    "plt.hist(slices.array('CRTtrackscore'), range=(-1,10), bins=20)"
   ]
  },
  {
   "cell_type": "code",
   "execution_count": 42,
   "metadata": {},
   "outputs": [
    {
     "data": {
      "text/plain": [
       "91"
      ]
     },
     "execution_count": 42,
     "metadata": {},
     "output_type": "execute_result"
    }
   ],
   "source": [
    "events = file['pandoraSliceId/events']\n",
    "events.numentries"
   ]
  },
  {
   "cell_type": "code",
   "execution_count": 43,
   "metadata": {},
   "outputs": [
    {
     "data": {
      "text/plain": [
       "38"
      ]
     },
     "execution_count": 43,
     "metadata": {},
     "output_type": "execute_result"
    }
   ],
   "source": [
    "events_passed = file['nuCCAnalyser/Event']\n",
    "events_passed.numentries"
   ]
  },
  {
   "cell_type": "code",
   "execution_count": 44,
   "metadata": {},
   "outputs": [
    {
     "data": {
      "text/plain": [
       "[b'event',\n",
       " b'run',\n",
       " b'subrun',\n",
       " b'evt_time_sec',\n",
       " b'evt_time_nsec',\n",
       " b'hitsU',\n",
       " b'hitsV',\n",
       " b'hitsY',\n",
       " b'caloU',\n",
       " b'caloV',\n",
       " b'caloY',\n",
       " b'hitsSps',\n",
       " b'generation',\n",
       " b'track_score',\n",
       " b'is_shower',\n",
       " b'is_track',\n",
       " b'has_shower_daughter',\n",
       " b'is_track_daughter',\n",
       " b'vx',\n",
       " b'vy',\n",
       " b'vz',\n",
       " b'vtx_distance',\n",
       " b'track_length',\n",
       " b'track_endx',\n",
       " b'track_endy',\n",
       " b'track_endz',\n",
       " b'track_dirx',\n",
       " b'track_diry',\n",
       " b'track_dirz',\n",
       " b'track_mcs_mom',\n",
       " b'track_mcs_err',\n",
       " b'track_mcs_ll',\n",
       " b'track_chi2_proton',\n",
       " b'track_chi2_muon',\n",
       " b'shower_length',\n",
       " b'shower_openangle',\n",
       " b'shower_dirx',\n",
       " b'shower_diry',\n",
       " b'shower_dirz',\n",
       " b'start_dedxU',\n",
       " b'start_dedxV',\n",
       " b'start_dedxY',\n",
       " b'start_hitsU',\n",
       " b'start_hitsV',\n",
       " b'start_hitsY',\n",
       " b'start_pitchU',\n",
       " b'start_pitchV',\n",
       " b'start_pitchY',\n",
       " b'mc_neutrino',\n",
       " b'mc_vx',\n",
       " b'mc_vy',\n",
       " b'mc_vz',\n",
       " b'mc_vx_sce',\n",
       " b'mc_vy_sce',\n",
       " b'mc_vz_sce',\n",
       " b'mc_energy',\n",
       " b'mc_pdg']"
      ]
     },
     "execution_count": 44,
     "metadata": {},
     "output_type": "execute_result"
    }
   ],
   "source": [
    "daughters = file['nuCCAnalyser/Daughters']\n",
    "daughters.keys()"
   ]
  },
  {
   "cell_type": "code",
   "execution_count": 45,
   "metadata": {},
   "outputs": [
    {
     "data": {
      "text/plain": [
       "85"
      ]
     },
     "execution_count": 45,
     "metadata": {},
     "output_type": "execute_result"
    }
   ],
   "source": [
    "daughters.numentries"
   ]
  },
  {
   "cell_type": "code",
   "execution_count": 50,
   "metadata": {},
   "outputs": [
    {
     "data": {
      "text/plain": [
       "(array([ 0.,  0., 23., 41.,  9.,  2.,  0.,  1.,  0.,  0.,  0.,  0.,  0.,\n",
       "         0.,  0.,  0.,  0.,  0.,  9.,  0.]),\n",
       " array([-1.  , -0.55, -0.1 ,  0.35,  0.8 ,  1.25,  1.7 ,  2.15,  2.6 ,\n",
       "         3.05,  3.5 ,  3.95,  4.4 ,  4.85,  5.3 ,  5.75,  6.2 ,  6.65,\n",
       "         7.1 ,  7.55,  8.  ], dtype=float32),\n",
       " <a list of 20 Patch objects>)"
      ]
     },
     "execution_count": 50,
     "metadata": {},
     "output_type": "execute_result"
    },
    {
     "data": {
      "image/png": "[encoded data removed]",
      "text/plain": [
       "<Figure size 432x288 with 1 Axes>"
      ]
     },
     "metadata": {
      "needs_background": "light"
     },
     "output_type": "display_data"
    }
   ],
   "source": [
    "plt.hist(daughters.array('track_mcs_mom'), range=(-1,8), bins=20)"
   ]
  },
  {
   "cell_type": "markdown",
   "metadata": {},
   "source": [
    "# Check Flash PE for different runs"
   ]
  },
  {
   "cell_type": "code",
   "execution_count": 5,
   "metadata": {},
   "outputs": [],
   "source": [
    "flash_ext_run1 = uproot.open('./input/ImprovedMay/run1/NueCC_off.root')['pandoraSliceId/flashes']\n",
    "flash_ext_run3 = uproot.open('./input/ImprovedMay/run3/NueCC_off_run3.root')['pandoraSliceId/flashes']\n",
    "mask_run1 = flash_ext_run1.array('isBeamFlash')\n",
    "mask_run3 = flash_ext_run3.array('isBeamFlash')\n",
    "scale = 5579116/37207065 #off triggers"
   ]
  },
  {
   "cell_type": "code",
   "execution_count": 6,
   "metadata": {},
   "outputs": [
    {
     "data": {
      "image/png": "[encoded data removed]",
      "text/plain": [
       "<Figure size 432x288 with 1 Axes>"
      ]
     },
     "metadata": {
      "needs_background": "light"
     },
     "output_type": "display_data"
    },
    {
     "data": {
      "image/png": "[encoded data removed]",
      "text/plain": [
       "<Figure size 432x288 with 1 Axes>"
      ]
     },
     "metadata": {
      "needs_background": "light"
     },
     "output_type": "display_data"
    }
   ],
   "source": [
    "weigths = [[1]*sum(mask_run1), [1/scale]*sum(mask_run3), [1/scale]*sum(mask_run3)]\n",
    "# Beam flashes\n",
    "plt.hist([flash_ext_run1.array('totalPE')[mask_run1], flash_ext_run3.array('totalPE')[mask_run3], \n",
    "          flash_ext_run3.array('totalPE')[mask_run3]*1.35], histtype='step', weights=weigths, range=(0,5000), bins=50, label=('run1', 'run3', 'run3*1.35'))\n",
    "plt.yscale('log')\n",
    "plt.legend()\n",
    "plt.savefig('f3.pdf')\n",
    "plt.show()\n",
    "\n",
    "plt.hist([flash_ext_run1.array('totalPE')[mask_run1], flash_ext_run3.array('totalPE')[mask_run3], \n",
    "          flash_ext_run3.array('totalPE')[mask_run3]*1.35], histtype='step', weights=weigths, range=(0,500), bins=50, label=('run1', 'run3', 'run3*1.35'))\n",
    "plt.legend()\n",
    "plt.savefig('f4.pdf')"
   ]
  },
  {
   "cell_type": "code",
   "execution_count": 8,
   "metadata": {},
   "outputs": [
    {
     "data": {
      "image/png": "[encoded data removed]",
      "text/plain": [
       "<Figure size 432x288 with 1 Axes>"
      ]
     },
     "metadata": {
      "needs_background": "light"
     },
     "output_type": "display_data"
    },
    {
     "data": {
      "image/png": "[encoded data removed]",
      "text/plain": [
       "<Figure size 432x288 with 1 Axes>"
      ]
     },
     "metadata": {
      "needs_background": "light"
     },
     "output_type": "display_data"
    }
   ],
   "source": [
    "weigths = [[1]*len(mask_run1), [1/scale]*len(mask_run3), [1/scale]*len(mask_run3)]\n",
    "# All flashes\n",
    "plt.hist([flash_ext_run1.array('totalPE'), flash_ext_run3.array('totalPE'), flash_ext_run3.array('totalPE')*1.35], histtype='step', weights=weigths, range=(0,5000), bins=50, label=('run1', 'run3', 'run3*1.35'))\n",
    "plt.yscale('log')\n",
    "plt.legend()\n",
    "plt.savefig('f3.pdf')\n",
    "plt.show()\n",
    "plt.hist([flash_ext_run1.array('totalPE'), flash_ext_run3.array('totalPE'), flash_ext_run3.array('totalPE')*1.35], histtype='step', weights=weigths, range=(0,500), bins=50, label=('run1', 'run3', 'run3*1.35'))\n",
    "plt.legend()\n",
    "plt.savefig('f4.pdf')"
   ]
  },
  {
   "cell_type": "markdown",
   "metadata": {},
   "source": [
    "# CRT"
   ]
  },
  {
   "cell_type": "code",
   "execution_count": 9,
   "metadata": {},
   "outputs": [
    {
     "name": "stdout",
     "output_type": "stream",
     "text": [
      "nue:\tAll events:  10337\tSelected events:  8615\tPassing fraction: 83%\n",
      "nu:\tAll events:  11858\tSelected events:  5607\tPassing fraction: 47%\n",
      "on:\tAll events:  6572\tSelected events:  1784\tPassing fraction: 27%\n",
      "off:\tAll events:  65335\tSelected events:  13482\tPassing fraction: 21%\n"
     ]
    }
   ],
   "source": [
    "file_dict = {}\n",
    "\n",
    "flist =  os.listdir(inputdir)\n",
    "for sample in dict_names:\n",
    "    file_name = next((s for s in flist if \"NueCC_\"+sample in s), None)\n",
    "    file_dict[sample] = {}\n",
    "    file_dict[sample][\"all_events\"] = uproot.open(inputdir+file_name)['pandoraSliceId/events']\n",
    "    file_dict[sample][\"slices\"] = uproot.open(inputdir+file_name)['pandoraSliceId/slices']\n",
    "    file_dict[sample][\"flashes\"] = uproot.open(inputdir+file_name)['pandoraSliceId/flashes']\n",
    "    file_dict[sample][\"events\"] = uproot.open(inputdir+file_name)['nueCCAnalyser/Event']\n",
    "    \n",
    "    print(sample+\":\\tAll events: \", file_dict[sample][\"all_events\"].numentries, end=\"\")\n",
    "    print(\"\\tSelected events: \", file_dict[sample][\"events\"].numentries, end=\"\")\n",
    "    print(\"\\tPassing fraction: {0:0.0f}%\".format(file_dict[sample][\"events\"].numentries/file_dict[sample][\"all_events\"].numentries*100), end=\"\\n\")"
   ]
  },
  {
   "cell_type": "code",
   "execution_count": null,
   "metadata": {},
   "outputs": [],
   "source": []
  },
  {
   "cell_type": "code",
   "execution_count": 44,
   "metadata": {},
   "outputs": [
    {
     "data": {
      "text/plain": [
       "[b'sliceId',\n",
       " b'run',\n",
       " b'subRun',\n",
       " b'event',\n",
       " b'evt_time_sec',\n",
       " b'evt_time_nsec',\n",
       " b'hasDeposition',\n",
       " b'totalCharge',\n",
       " b'centerX',\n",
       " b'centerY',\n",
       " b'centerZ',\n",
       " b'minCRTdist',\n",
       " b'CRTtime',\n",
       " b'CRTplane',\n",
       " b'deltaY',\n",
       " b'deltaZ',\n",
       " b'deltaYSigma',\n",
       " b'deltaZSigma',\n",
       " b'chargeToLightRatio',\n",
       " b'xclVariable',\n",
       " b'passesPreCuts',\n",
       " b'flashMatchScore',\n",
       " b'totalPEHypothesis',\n",
       " b'peHypothesisSpectrum',\n",
       " b'isTaggedAsTarget',\n",
       " b'targetMethod',\n",
       " b'isConsideredByFlashId',\n",
       " b'topologicalScore',\n",
       " b'hasBestTopologicalScore',\n",
       " b'hasBestFlashMatchScore',\n",
       " b'nHits',\n",
       " b'purity',\n",
       " b'completeness',\n",
       " b'isMostComplete',\n",
       " b'nuInteractionType',\n",
       " b'nuCCNC',\n",
       " b'nuEnergy',\n",
       " b'leptonEnergy',\n",
       " b'nuInteractionTime',\n",
       " b'nuPdgCode',\n",
       " b'nuVertexX',\n",
       " b'nuVertexY',\n",
       " b'nuVertexZ']"
      ]
     },
     "execution_count": 44,
     "metadata": {},
     "output_type": "execute_result"
    }
   ],
   "source": [
    "file_dict[\"nue\"][\"slices\"].keys()"
   ]
  },
  {
   "cell_type": "code",
   "execution_count": 11,
   "metadata": {},
   "outputs": [
    {
     "name": "stdout",
     "output_type": "stream",
     "text": [
      "nue\tPassed slices: 18.8%, Selected slices: 13.9%\n",
      "nu\tPassed slices: 16.4%, Selected slices: 12.7%\n",
      "on\tPassed slices: 29.2%, Selected slices: 29.1%\n",
      "off\tPassed slices: 41.1%, Selected slices: 41.4%\n"
     ]
    },
    {
     "data": {
      "text/plain": [
       "<matplotlib.legend.Legend at 0x7fa5b3e5b160>"
      ]
     },
     "execution_count": 11,
     "metadata": {},
     "output_type": "execute_result"
    },
    {
     "data": {
      "image/png": "[encoded data removed]",
      "text/plain": [
       "<Figure size 432x288 with 1 Axes>"
      ]
     },
     "metadata": {
      "needs_background": "light"
     },
     "output_type": "display_data"
    }
   ],
   "source": [
    "for sample in dict_names:\n",
    "    num = file_dict[sample][\"slices\"].numentries\n",
    "    plt.hist(file_dict[sample][\"slices\"].array('minCRTdist'),histtype='step', range=(0,40), weights=[1/num]*num, label=sample, bins=20)\n",
    "    mask_pass = file_dict[sample][\"slices\"].array('passesPreCuts')\n",
    "    mask_select = file_dict[sample][\"slices\"].array('isTaggedAsTarget')\n",
    "    crt_tagged = file_dict[sample][\"slices\"].array('minCRTdist')<50\n",
    "    print(sample+'\\tPassed slices: {0:0.1f}%, Selected slices: {1:0.1f}%'.format(sum(crt_tagged & mask_pass)/sum(mask_pass)*100, sum(crt_tagged & mask_select)/sum(mask_select)*100 ))\n",
    "    \n",
    "plt.legend()"
   ]
  },
  {
   "cell_type": "code",
   "execution_count": 45,
   "metadata": {},
   "outputs": [],
   "source": [
    "slice_cols = ['purity', 'minCRTdist', 'CRTplane', 'nuVertexX', 'nuVertexY', 'nuVertexZ', 'leptonEnergy', 'isTaggedAsTarget', 'CRTtime']\n",
    "fidvol_arr = [10,10,10,10,10,50] \n",
    "kin_min=0.02"
   ]
  },
  {
   "cell_type": "code",
   "execution_count": 46,
   "metadata": {},
   "outputs": [],
   "source": [
    "#for nue sample now:\n",
    "# First, construct signal frame!\n",
    "df_nue_slices_sig = file_dict['nue']['slices'].pandas.df(slice_cols)\n",
    "df_nue_slices_sig = df_nue_slices_sig[helper.inTPC_df( df_nue_slices_sig[[ 'nuVertexX', 'nuVertexY', 'nuVertexZ']], 'nuVertexX', 'nuVertexY', 'nuVertexZ', fidvol=fidvol_arr)]\n",
    "df_nue_slices_sig = df_nue_slices_sig.query('leptonEnergy>@kin_min') #  & nuEnergy<0.6')\n",
    "df_nue_slices_sig_pure = df_nue_slices_sig.query('purity>0.7 & isTaggedAsTarget')\n",
    "crt_dist = df_nue_slices_sig_pure['minCRTdist']\n",
    "crt_time = df_nue_slices_sig_pure['CRTtime']\n",
    "crt_plane = df_nue_slices_sig_pure['CRTplane']\n",
    "\n",
    "crt_dist_off = file_dict['off'][\"slices\"].array('minCRTdist')\n",
    "crt_time_off = file_dict['off'][\"slices\"].array('CRTtime')\n",
    "crt_plane_off = file_dict['off'][\"slices\"].array('CRTplane')"
   ]
  },
  {
   "cell_type": "code",
   "execution_count": 50,
   "metadata": {},
   "outputs": [
    {
     "name": "stdout",
     "output_type": "stream",
     "text": [
      "0.10024019215372298\n",
      "0.3566705793203869\n"
     ]
    }
   ],
   "source": [
    "print(sum(crt_dist<50)/len(crt_dist))\n",
    "print(sum(crt_dist_off<50)/len(crt_dist_off))"
   ]
  },
  {
   "cell_type": "code",
   "execution_count": 58,
   "metadata": {},
   "outputs": [
    {
     "data": {
      "image/png": "[encoded data removed]",
      "text/plain": [
       "<Figure size 720x288 with 3 Axes>"
      ]
     },
     "metadata": {
      "needs_background": "light"
     },
     "output_type": "display_data"
    }
   ],
   "source": [
    "fig, ax = plt.subplots(ncols = 3, sharex=False, sharey = False, figsize=(10,4))\n",
    "\n",
    "ax[0].hist([crt_time_off, crt_time], range = (-2.1e3,2.3e3), bins=50, histtype='step', density=1, label=['BNB Off', r'$\\nu_e$ CC'])\n",
    "ax[0].set_xlabel(r'CRT hit time [$\\mu$s]')\n",
    "ax[0].legend()\n",
    "\n",
    "ax[1].hist([crt_plane_off, crt_plane], range = (-0.5,3.5), bins=4, histtype='step', density=1, label=['BNB Off', r'$\\nu_e$ CC'])\n",
    "ax[1].set_xlabel(r'CRT plane')\n",
    "ax[1].set_xticks(range(4))\n",
    "ax[1].legend()\n",
    "\n",
    "\n",
    "ax[2].hist([crt_dist_off, crt_dist], range = (0,40), bins=50, histtype='step', density=1, label=['BNB Off', r'$\\nu_e$ CC'])\n",
    "ax[2].set_xlabel(r'CRT distance [cm]')\n",
    "ax[2].legend()\n",
    "\n",
    "fig.tight_layout()\n",
    "fig.savefig('CRT1.pdf')"
   ]
  },
  {
   "cell_type": "code",
   "execution_count": 67,
   "metadata": {},
   "outputs": [
    {
     "data": {
      "image/png": "[encoded data removed]",
      "text/plain": [
       "<Figure size 864x288 with 4 Axes>"
      ]
     },
     "metadata": {
      "needs_background": "light"
     },
     "output_type": "display_data"
    }
   ],
   "source": [
    "fig, ax = plt.subplots(ncols = 4, sharex=False, sharey = False, figsize=(12,4))\n",
    "\n",
    "for i in range(4):\n",
    "    per = sum(crt_plane==i)/sum(crt_plane<5)*100\n",
    "    ax[i].hist([crt_dist_off[crt_plane_off==i], crt_dist[crt_plane==i]], range = (0,40), bins=50, histtype='step', density=1, label=['BNB Off', r'$\\nu_e$ CC ({0:0.0f}%)'.format(per)])\n",
    "    ax[i].set_xlabel(r'CRT distance [cm]')\n",
    "    ax[i].legend()\n",
    "    ax[i].set_title('Plane '+str(i))\n",
    "    \n",
    "fig.tight_layout()\n",
    "fig.savefig('CRT2.pdf')"
   ]
  },
  {
   "cell_type": "code",
   "execution_count": null,
   "metadata": {},
   "outputs": [],
   "source": []
  },
  {
   "cell_type": "markdown",
   "metadata": {},
   "source": [
    "## Look at chi2"
   ]
  },
  {
   "cell_type": "code",
   "execution_count": null,
   "metadata": {},
   "outputs": [],
   "source": [
    "# lowest cosmic chi2 in event:\n",
    "chi_cosmic_off = file_dict['off'][\"all_events\"].array('bestCosmicMatch')[file_dict['off'][\"all_events\"].array('foundATargetSlice')]\n",
    "chi_slice_off = file_dict['off'][\"slices\"].array('flashMatchScore')[file_dict['off'][\"slices\"].array('isTaggedAsTarget')]\n",
    "plt.hist([chi_slice_off, chi_cosmic_off], histtype='step', range=(0,100), bins=100, label=['selected slice', 'best cosmic'])\n",
    "plt.legend()"
   ]
  },
  {
   "cell_type": "code",
   "execution_count": null,
   "metadata": {},
   "outputs": [],
   "source": [
    "# lowest cosmic chi2 in event:\n",
    "mask_pure = file_dict['nue'][\"slices\"].array('purity')>0.7\n",
    "mask_selected = file_dict['nue'][\"slices\"].array('isTaggedAsTarget')\n",
    "mask_selected_event = file_dict['nue'][\"all_events\"].array('foundATargetSlice')\n",
    "print(sum(mask_selected))\n",
    "mask_pureplus = mask_pure & mask_selected\n",
    "chi_cosmic_nue = file_dict['nue'][\"all_events\"].array('bestCosmicMatch')[mask_selected_event][mask_pure[mask_selected]]\n",
    "chi_slice_nue = file_dict['nue'][\"slices\"].array('flashMatchScore')[mask_pureplus]\n",
    "plt.hist([chi_slice_nue, chi_cosmic_nue], histtype='step', range=(0,100), bins=100, label=['selected slice', 'best cosmic'])\n",
    "plt.legend()"
   ]
  },
  {
   "cell_type": "code",
   "execution_count": null,
   "metadata": {},
   "outputs": [],
   "source": [
    "plt.hist([chi_slice_nue/chi_cosmic_nue, chi_slice_off/chi_cosmic_off], label=['nue', 'off'], histtype='step', bins=100, range=(0,15), density=True)\n",
    "plt.legend()"
   ]
  },
  {
   "cell_type": "code",
   "execution_count": null,
   "metadata": {},
   "outputs": [],
   "source": [
    "nue_pass = []\n",
    "off_pass = []\n",
    "\n",
    "for cut in np.arange(0,10,1):\n",
    "    a = sum((chi_slice_nue/chi_cosmic_nue)>cut)/len(chi_slice_nue)\n",
    "    b = sum((chi_slice_off/chi_cosmic_off)>cut)/len(chi_slice_off)\n",
    "    nue_pass.append(a)\n",
    "    off_pass.append(b)\n",
    "    print(\"{0:0.1f}\\toff: {1:0.0f}%\\tnue: {2:0.1f}%\".format(cut,b*100,a*100))"
   ]
  },
  {
   "cell_type": "code",
   "execution_count": null,
   "metadata": {},
   "outputs": [],
   "source": [
    "plt.plot(np.arange(0,10,0.1), nue_pass,  label=\"nue\")\n",
    "plt.plot(np.arange(0,10,0.1), off_pass,  label=\"off\")\n",
    "plt.ylim(0,1)\n",
    "plt.xlim(0,10)\n",
    "plt.xlabel( r'$\\chi^2$-targetslice / $\\chi^2$-cosmic')\n",
    "plt.ylabel('Rejection fraction')\n",
    "plt.savefig('ratiochi2.pdf')"
   ]
  },
  {
   "cell_type": "code",
   "execution_count": null,
   "metadata": {},
   "outputs": [],
   "source": []
  }
 ],
 "metadata": {
  "kernelspec": {
   "display_name": "Uproot Env",
   "language": "python",
   "name": "uprootenv"
  },
  "language_info": {
   "codemirror_mode": {
    "name": "ipython",
    "version": 3
   },
   "file_extension": ".py",
   "mimetype": "text/x-python",
   "name": "python",
   "nbconvert_exporter": "python",
   "pygments_lexer": "ipython3",
   "version": "3.5.6"
  }
 },
 "nbformat": 4,
 "nbformat_minor": 2
}
