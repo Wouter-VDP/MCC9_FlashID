{
 "cells": [
  {
   "cell_type": "code",
   "execution_count": 60,
   "metadata": {},
   "outputs": [],
   "source": [
    "import uproot\n",
    "import matplotlib.pyplot as plt\n",
    "import numpy as np\n",
    "import time\n",
    "import helpfunction as helper"
   ]
  },
  {
   "cell_type": "code",
   "execution_count": 61,
   "metadata": {},
   "outputs": [],
   "source": [
    "outdir= './output/FlashHypo/'\n",
    "inputdir = './input/'  \n",
    "file_name = inputdir+'NueCC_nu_mcc9_nov.root'\n",
    "sample_name = r\"MCC9 November: BNB $\\nu$\""
   ]
  },
  {
   "cell_type": "code",
   "execution_count": 62,
   "metadata": {},
   "outputs": [],
   "source": [
    "def search_unsorted(index_large, values_large, index_subset):\n",
    "    if (len(index_large)!=len(values_large)):\n",
    "        return -1\n",
    "    sorter = np.argsort(index_large)\n",
    "    return values_large[sorter][np.searchsorted(index_large[sorter], index_subset)]"
   ]
  },
  {
   "cell_type": "code",
   "execution_count": 71,
   "metadata": {},
   "outputs": [],
   "source": [
    "file_flashes = uproot.open(file_name)['pandoraFlashEventBuilding/flashes']\n",
    "file_slices = uproot.open(file_name)['pandoraFlashEventBuilding/slices']"
   ]
  },
  {
   "cell_type": "code",
   "execution_count": 72,
   "metadata": {},
   "outputs": [
    {
     "data": {
      "text/plain": [
       "[b'nueCCAnalyser;1',\n",
       " b'pandoraFlashEventBuilding;1',\n",
       " b'FRH;1',\n",
       " b'FRV;1',\n",
       " b'rICKR;1',\n",
       " b'rICKI;1',\n",
       " b'PreC;1',\n",
       " b'PostC;1',\n",
       " b'PostO;1',\n",
       " b'PreD;1',\n",
       " b'PostDO;1',\n",
       " b'ER;1']"
      ]
     },
     "execution_count": 72,
     "metadata": {},
     "output_type": "execute_result"
    }
   ],
   "source": [
    " uproot.open(file_name).keys()"
   ]
  },
  {
   "cell_type": "code",
   "execution_count": 96,
   "metadata": {},
   "outputs": [],
   "source": [
    "flash_ids = file_flashes.array(\"evt_time_nsec\")\n",
    "flash_pes = file_flashes.array(\"peSpectrum\")\n",
    "\n",
    "slice_purity = file_slices.array(\"purity\")>0.8\n",
    "slice_completeness = file_slices.array(\"completeness\")>0.8\n",
    "slice_hypos = file_slices.array(\"peHypothesisSpectrum\")\n",
    "slice_flashmatched = (slice_hypos.counts==32) & (slice_hypos.sum()>0.0)\n",
    "slice_mask = slice_purity & slice_completeness & slice_flashmatched\n",
    "slice_ids = file_slices.array(\"evt_time_nsec\")[slice_mask]\n",
    "slice_hypos = slice_hypos[slice_mask]"
   ]
  },
  {
   "cell_type": "code",
   "execution_count": 131,
   "metadata": {},
   "outputs": [],
   "source": [
    "slice_pe = np.array(search_unsorted(flash_ids, flash_pes, slice_ids))"
   ]
  },
  {
   "cell_type": "code",
   "execution_count": 132,
   "metadata": {},
   "outputs": [],
   "source": [
    "# 2(H-O)/(H+O)\n",
    "slice_hypos = np.array(slice_hypos)\n",
    "test = slice_hypos-slice_pe\n",
    "#y_vals = 2*(slice_hypos-slice_pe)/(slice_hypos+slice_pe)\n",
    "\n",
    "a = 2*(slice_hypos-slice_pe)\n",
    "b = (slice_hypos+slice_pe)\n",
    "y_vals = np.divide(a, b, out=np.zeros_like(a), where=b!=0)"
   ]
  },
  {
   "cell_type": "code",
   "execution_count": 133,
   "metadata": {},
   "outputs": [],
   "source": [
    "y = np.nan_to_num(y_vals).T.flatten()\n",
    "x = np.repeat(range(32),len(y_vals))\n",
    "mask = y!=0"
   ]
  },
  {
   "cell_type": "code",
   "execution_count": 134,
   "metadata": {
    "scrolled": false
   },
   "outputs": [
    {
     "data": {
      "image/png": "[encoded data removed]",
      "text/plain": [
       "<Figure size 720x252 with 2 Axes>"
      ]
     },
     "metadata": {
      "needs_background": "light"
     },
     "output_type": "display_data"
    }
   ],
   "source": [
    "fig, ax = plt.subplots(1, 2, sharex=True, figsize=(10,3.5))\n",
    "\n",
    "ax[0].hist2d(x[mask],y[mask], range=((-0.5,31.5),(-2,2)), bins=(32,50), cmap=\"coolwarm\")\n",
    "ax[1].hist2d(x[mask],y[mask], range=((-0.5,31.5),(-1,1)), bins=(32,50), cmap=\"coolwarm\")\n",
    "ax[0].set_ylabel(r\"$2 \\times \\dfrac{H-O}{H+O}$\")\n",
    "ax[0].set_xlabel(r\"PMT number\")\n",
    "ax[1].set_xlabel(r\"PMT number\")\n",
    "\n",
    "fig.suptitle(sample_name)\n",
    "fig.savefig(outdir+\"nu.pdf\", bbox_inches='tight')"
   ]
  },
  {
   "cell_type": "code",
   "execution_count": 32,
   "metadata": {},
   "outputs": [
    {
     "name": "stderr",
     "output_type": "stream",
     "text": [
      "/home/wouter/Binaries/miniconda3/envs/uprootenv/lib/python3.5/site-packages/numpy/lib/histograms.py:746: RuntimeWarning: invalid value encountered in greater_equal\n",
      "  keep = (tmp_a >= first_edge)\n",
      "/home/wouter/Binaries/miniconda3/envs/uprootenv/lib/python3.5/site-packages/numpy/lib/histograms.py:747: RuntimeWarning: invalid value encountered in less_equal\n",
      "  keep &= (tmp_a <= last_edge)\n"
     ]
    },
    {
     "data": {
      "text/plain": [
       "(array([ 4834.,  3203.,  5486.,  7771.,  7505.,  3420.,   886.,   511.,\n",
       "          331., 18894.]),\n",
       " array([-2. , -1.6, -1.2, -0.8, -0.4,  0. ,  0.4,  0.8,  1.2,  1.6,  2. ]),\n",
       " <a list of 10 Patch objects>)"
      ]
     },
     "execution_count": 32,
     "metadata": {},
     "output_type": "execute_result"
    },
    {
     "data": {
      "image/png": "[encoded data removed]",
      "text/plain": [
       "<Figure size 432x288 with 1 Axes>"
      ]
     },
     "metadata": {
      "needs_background": "light"
     },
     "output_type": "display_data"
    }
   ],
   "source": [
    "pmt0 = list(np.nan_to_num(y_vals).T[0])\n",
    "plt.hist(pmt0, range=(-2,2))"
   ]
  },
  {
   "cell_type": "code",
   "execution_count": 3,
   "metadata": {},
   "outputs": [],
   "source": [
    "## Splitting two notebooks up!"
   ]
  },
  {
   "cell_type": "code",
   "execution_count": 2,
   "metadata": {},
   "outputs": [
    {
     "ename": "NameError",
     "evalue": "name 'file_dict' is not defined",
     "output_type": "error",
     "traceback": [
      "\u001b[0;31m---------------------------------------------------------------------------\u001b[0m",
      "\u001b[0;31mNameError\u001b[0m                                 Traceback (most recent call last)",
      "\u001b[0;32m<ipython-input-2-7ed9068eeb3f>\u001b[0m in \u001b[0;36m<module>\u001b[0;34m()\u001b[0m\n\u001b[1;32m      3\u001b[0m \u001b[0msubrun\u001b[0m \u001b[0;34m=\u001b[0m \u001b[0;36m6165\u001b[0m\u001b[0;34m\u001b[0m\u001b[0m\n\u001b[1;32m      4\u001b[0m \u001b[0mevent\u001b[0m \u001b[0;34m=\u001b[0m \u001b[0;36m123289\u001b[0m\u001b[0;34m\u001b[0m\u001b[0m\n\u001b[0;32m----> 5\u001b[0;31m \u001b[0msample_dict\u001b[0m \u001b[0;34m=\u001b[0m \u001b[0mfile_dict\u001b[0m\u001b[0;34m[\u001b[0m\u001b[0msample\u001b[0m\u001b[0;34m]\u001b[0m\u001b[0;34m\u001b[0m\u001b[0m\n\u001b[0m\u001b[1;32m      6\u001b[0m \u001b[0mhelper\u001b[0m\u001b[0;34m.\u001b[0m\u001b[0mSingleEventViewer\u001b[0m\u001b[0;34m(\u001b[0m\u001b[0msample\u001b[0m\u001b[0;34m,\u001b[0m\u001b[0mrun\u001b[0m\u001b[0;34m,\u001b[0m\u001b[0msubrun\u001b[0m\u001b[0;34m,\u001b[0m\u001b[0mevent\u001b[0m\u001b[0;34m,\u001b[0m \u001b[0msample_dict\u001b[0m\u001b[0;34m,\u001b[0m \u001b[0msave_plot\u001b[0m\u001b[0;34m=\u001b[0m\u001b[0;32mTrue\u001b[0m\u001b[0;34m)\u001b[0m\u001b[0;34m\u001b[0m\u001b[0m\n",
      "\u001b[0;31mNameError\u001b[0m: name 'file_dict' is not defined"
     ]
    }
   ],
   "source": [
    "#TODO\n",
    "sample = \"nue\"\n",
    "run = 1\n",
    "subrun = 6165\n",
    "event = 123289\n",
    "helper.SingleEventViewer(sample,run,subrun,event, sample_dict, save_plot=True)"
   ]
  },
  {
   "cell_type": "code",
   "execution_count": null,
   "metadata": {},
   "outputs": [],
   "source": [
    "# Add the log(charge/light)-x_center field: xcl_ratio\n",
    "#for sample, sample_dict in file_dict.items():\n",
    "#    d = sample_dict['slices']\n",
    "#    sample_dict['slices'][b'xcl_ratio'] = m_xcl*np.log10(d[b'chargeToLightRatio'])- d[b'centerX']"
   ]
  },
  {
   "cell_type": "code",
   "execution_count": null,
   "metadata": {},
   "outputs": [],
   "source": [
    "# Save the PE values of beam flashes in a seperate numpy array:\n",
    "# For the rolling sample, We only want to compare the PE rates with the run3/4 part\n",
    "flashPE = []\n",
    "sliceHypothesisPE = []\n",
    "for sample in dict_names: \n",
    "    print(sample)\n",
    "    mask = file_dict[sample]['flashes'][b'isBeamFlash']\n",
    "    print(sum(mask))\n",
    "    if(sample=='on_rolling'):\n",
    "        mask = mask & (file_dict[sample]['flashes'][b'run']>13697)\n",
    "    temp = file_dict[sample]['flashes'][b'peSpectrum'][mask]\n",
    "    flashPE.append(temp.flatten().reshape(len(temp),32).T)\n",
    "    del file_dict[sample]['flashes'][b'peSpectrum']\n",
    "    \n",
    "    mask = file_dict[sample]['slices'][b'isConsideredByFlashId']\n",
    "    if(sample=='on_rolling'):\n",
    "        mask = mask & (file_dict[sample]['slices'][b'run']>13697)\n",
    "    temp = file_dict[sample]['slices'][b'peHypothesisSpectrum'][mask]\n",
    "    sliceHypothesisPE.append(temp.flatten().reshape(sum(temp.counts==32),32).T)\n",
    "    del file_dict[sample]['slices'][b'peHypothesisSpectrum']"
   ]
  },
  {
   "cell_type": "code",
   "execution_count": null,
   "metadata": {},
   "outputs": [],
   "source": [
    "# Make a comparison of the average PE per PMT in the way marco does!\n",
    "\n",
    "x_data = np.repeat(range(flashPE[3].shape[0]),flashPE[3].shape[1])\n",
    "y_data = flashPE[3].flatten()\n",
    "H_off, xedges, yedges = np.histogram2d(x_data, y_data, bins=(32,20), range=((-0.5,31.5),(30,200)))\n",
    "x_data = np.repeat(range(flashPE[2].shape[0]),flashPE[2].shape[1])\n",
    "y_data = flashPE[2].flatten()\n",
    "H_on, _, _ = np.histogram2d(x_data, y_data, bins=(32,20), range=((-0.5,31.5),(30,200)))\n",
    "H = H_on-H_off*scale_off\n",
    "X, Y = np.meshgrid(xedges, yedges)\n",
    "\n",
    "fig,ax = plt.subplots(ncols=1,nrows=1,figsize=(5.5*gr,3))\n",
    "im = ax.pcolormesh(X, Y, H_on.T, cmap='coolwarm', vmin=0)\n",
    "ax.set_xticks(rangePMT)\n",
    "fig.colorbar(im)\n",
    "ax.set_title('PE per PMT: BNB On (run 1)', loc='left')\n",
    "ax.set_title(title_str, loc='right')\n",
    "ax.set_xlabel('PMT identification number')\n",
    "ax.set_ylabel('PE per PMT')\n",
    "fig.tight_layout()\n",
    "plt.show()\n",
    "\n",
    "fig,ax = plt.subplots(ncols=1,nrows=1,figsize=(5.5*gr,3))\n",
    "im = ax.pcolormesh(X, Y, H.T, cmap='coolwarm', vmin=0)\n",
    "ax.set_xticks(rangePMT)\n",
    "ax.set_title('PE per PMT: BNB On - BNB Off (run 1)', loc='left')\n",
    "ax.set_xlabel('PMT identification number')\n",
    "ax.set_ylabel('PE per PMT')\n",
    "fig.colorbar(im)\n",
    "fig.tight_layout()\n",
    "plt.show()\n",
    "\n",
    "x_data = np.repeat(range(flashPE[1].shape[0]),flashPE[1].shape[1])\n",
    "y_data = flashPE[1].flatten()\n",
    "H_mc, xedges, yedges = np.histogram2d(x_data, y_data, bins=(32,20), range=((-0.5,31.5),(30,200)))\n",
    "\n",
    "fig,ax = plt.subplots(ncols=1,nrows=1,figsize=(5.5*gr,3))\n",
    "im = ax.pcolormesh(X, Y, H_mc.T, cmap='coolwarm', vmin=0)\n",
    "ax.set_xticks(rangePMT)\n",
    "ax.set_title(r'PE per PMT: BNB $\\nu$ (MC)', loc='left')\n",
    "ax.set_xlabel('PMT identification number')\n",
    "ax.set_ylabel('PE per PMT')\n",
    "fig.colorbar(im)\n",
    "fig.tight_layout()\n",
    "plt.show()"
   ]
  },
  {
   "cell_type": "code",
   "execution_count": 135,
   "metadata": {},
   "outputs": [
    {
     "ename": "NameError",
     "evalue": "name 'flashPE' is not defined",
     "output_type": "error",
     "traceback": [
      "\u001b[0;31m---------------------------------------------------------------------------\u001b[0m",
      "\u001b[0;31mNameError\u001b[0m                                 Traceback (most recent call last)",
      "\u001b[0;32m<ipython-input-135-d593823a7be0>\u001b[0m in \u001b[0;36m<module>\u001b[0;34m()\u001b[0m\n\u001b[0;32m----> 1\u001b[0;31m \u001b[0mmean_mc\u001b[0m \u001b[0;34m=\u001b[0m \u001b[0mnp\u001b[0m\u001b[0;34m.\u001b[0m\u001b[0mmean\u001b[0m\u001b[0;34m(\u001b[0m\u001b[0mflashPE\u001b[0m\u001b[0;34m[\u001b[0m\u001b[0;36m1\u001b[0m\u001b[0;34m]\u001b[0m\u001b[0;34m,\u001b[0m\u001b[0maxis\u001b[0m\u001b[0;34m=\u001b[0m\u001b[0;36m1\u001b[0m\u001b[0;34m)\u001b[0m\u001b[0;34m\u001b[0m\u001b[0m\n\u001b[0m\u001b[1;32m      2\u001b[0m \u001b[0mmean_on\u001b[0m \u001b[0;34m=\u001b[0m \u001b[0mnp\u001b[0m\u001b[0;34m.\u001b[0m\u001b[0mmean\u001b[0m\u001b[0;34m(\u001b[0m\u001b[0mflashPE\u001b[0m\u001b[0;34m[\u001b[0m\u001b[0;36m2\u001b[0m\u001b[0;34m]\u001b[0m\u001b[0;34m,\u001b[0m\u001b[0maxis\u001b[0m\u001b[0;34m=\u001b[0m\u001b[0;36m1\u001b[0m\u001b[0;34m)\u001b[0m\u001b[0;34m\u001b[0m\u001b[0m\n\u001b[1;32m      3\u001b[0m \u001b[0mmean_off\u001b[0m \u001b[0;34m=\u001b[0m \u001b[0mnp\u001b[0m\u001b[0;34m.\u001b[0m\u001b[0mmean\u001b[0m\u001b[0;34m(\u001b[0m\u001b[0mflashPE\u001b[0m\u001b[0;34m[\u001b[0m\u001b[0;36m3\u001b[0m\u001b[0;34m]\u001b[0m\u001b[0;34m,\u001b[0m\u001b[0maxis\u001b[0m\u001b[0;34m=\u001b[0m\u001b[0;36m1\u001b[0m\u001b[0;34m)\u001b[0m\u001b[0;34m\u001b[0m\u001b[0m\n\u001b[1;32m      4\u001b[0m \u001b[0;34m\u001b[0m\u001b[0m\n\u001b[1;32m      5\u001b[0m \u001b[0mprint\u001b[0m\u001b[0;34m(\u001b[0m\u001b[0;34m\"BNB on \"\u001b[0m\u001b[0;34m,\u001b[0m \u001b[0mmean_on\u001b[0m\u001b[0;34m)\u001b[0m\u001b[0;34m\u001b[0m\u001b[0m\n",
      "\u001b[0;31mNameError\u001b[0m: name 'flashPE' is not defined"
     ]
    }
   ],
   "source": [
    "mean_mc = np.mean(flashPE[1],axis=1)\n",
    "mean_on = np.mean(flashPE[2],axis=1)\n",
    "mean_off = np.mean(flashPE[3],axis=1)\n",
    "\n",
    "print(\"BNB on \", mean_on)\n",
    "print(\"BNB off \", mean_off)\n",
    "print(\"BNB MC \", mean_mc)\n",
    "\n",
    "fig,ax = plt.subplots(ncols=8,nrows=4,figsize=(12*gr,12))\n",
    "ax=ax.flatten()\n",
    "\n",
    "for i,(pe_on,pe_off, pe_mc) in enumerate(zip(flashPE[2], flashPE[3], flashPE[1])):\n",
    "    ax[i].hist(pe_mc, density=1, range=(0,300), label='MC  : {0:.0f}'.format(np.mean(pe_mc)), histtype='step', bins=15)\n",
    "    ax[i].hist(pe_on, density=1, range=(0,300), label='BNB On: {0:.0f}'.format(np.mean(pe_on)), histtype='step', bins=15)\n",
    "    ax[i].hist(pe_off, density=1, range=(0,300), label='BNB On: {0:.0f}'.format(np.mean(pe_off)), histtype='step', bins=15)\n",
    "    ax[i].set_yscale('log')\n",
    "    ax[i].set_ylim(1e-4,0.05)\n",
    "    ax[i].legend(title=\"PMT \"+str(i))\n",
    "fig.tight_layout()\n",
    "plt.savefig(outdir+\"pe_per_pmt_data_mc.pdf\", bbox_inches=\"tight\")\n",
    "plt.show()\n",
    "\n",
    "ratio_on  = mean_on/mean_mc\n",
    "ratio_off = mean_off/mean_mc\n",
    "\n",
    "plt.errorbar(rangePMT, ratio_on, xerr= 0.5, fmt='none', label='BNB On')\n",
    "plt.errorbar(rangePMT, ratio_off, xerr= 0.5, fmt='none', label='BNB Off')\n",
    "\n",
    "plt.axhline(1, color='C2', label='MC')\n",
    "plt.legend(loc = 'lower left')\n",
    "plt.xlabel('PMT identification number')\n",
    "plt.ylabel('Fraction of mean PE')\n",
    "plt.title('Mean #PE Data versus MC')\n",
    "plt.ylim(0,1.3)\n",
    "plt.xlim(-0.5,31.5)\n",
    "plt.savefig(outdir+\"pe_per_pmt_data_mc_ratio.pdf\", bbox_inches=\"tight\")"
   ]
  },
  {
   "cell_type": "code",
   "execution_count": 136,
   "metadata": {},
   "outputs": [
    {
     "ename": "NameError",
     "evalue": "name 'flashPE' is not defined",
     "output_type": "error",
     "traceback": [
      "\u001b[0;31m---------------------------------------------------------------------------\u001b[0m",
      "\u001b[0;31mNameError\u001b[0m                                 Traceback (most recent call last)",
      "\u001b[0;32m<ipython-input-136-cc613e285a2e>\u001b[0m in \u001b[0;36m<module>\u001b[0;34m()\u001b[0m\n\u001b[0;32m----> 1\u001b[0;31m \u001b[0mx_data\u001b[0m \u001b[0;34m=\u001b[0m \u001b[0mnp\u001b[0m\u001b[0;34m.\u001b[0m\u001b[0mrepeat\u001b[0m\u001b[0;34m(\u001b[0m\u001b[0mrange\u001b[0m\u001b[0;34m(\u001b[0m\u001b[0mflashPE\u001b[0m\u001b[0;34m[\u001b[0m\u001b[0;36m4\u001b[0m\u001b[0;34m]\u001b[0m\u001b[0;34m.\u001b[0m\u001b[0mshape\u001b[0m\u001b[0;34m[\u001b[0m\u001b[0;36m0\u001b[0m\u001b[0;34m]\u001b[0m\u001b[0;34m)\u001b[0m\u001b[0;34m,\u001b[0m\u001b[0mflashPE\u001b[0m\u001b[0;34m[\u001b[0m\u001b[0;36m4\u001b[0m\u001b[0;34m]\u001b[0m\u001b[0;34m.\u001b[0m\u001b[0mshape\u001b[0m\u001b[0;34m[\u001b[0m\u001b[0;36m1\u001b[0m\u001b[0;34m]\u001b[0m\u001b[0;34m)\u001b[0m\u001b[0;34m\u001b[0m\u001b[0m\n\u001b[0m\u001b[1;32m      2\u001b[0m \u001b[0my_data\u001b[0m \u001b[0;34m=\u001b[0m \u001b[0mflashPE\u001b[0m\u001b[0;34m[\u001b[0m\u001b[0;36m4\u001b[0m\u001b[0;34m]\u001b[0m\u001b[0;34m.\u001b[0m\u001b[0mflatten\u001b[0m\u001b[0;34m(\u001b[0m\u001b[0;34m)\u001b[0m\u001b[0;34m\u001b[0m\u001b[0m\n\u001b[1;32m      3\u001b[0m \u001b[0mH_on_rolling\u001b[0m\u001b[0;34m,\u001b[0m \u001b[0mxedges\u001b[0m\u001b[0;34m,\u001b[0m \u001b[0myedges\u001b[0m \u001b[0;34m=\u001b[0m \u001b[0mnp\u001b[0m\u001b[0;34m.\u001b[0m\u001b[0mhistogram2d\u001b[0m\u001b[0;34m(\u001b[0m\u001b[0mx_data\u001b[0m\u001b[0;34m,\u001b[0m \u001b[0my_data\u001b[0m\u001b[0;34m,\u001b[0m \u001b[0mbins\u001b[0m\u001b[0;34m=\u001b[0m\u001b[0;34m(\u001b[0m\u001b[0;36m32\u001b[0m\u001b[0;34m,\u001b[0m\u001b[0;36m20\u001b[0m\u001b[0;34m)\u001b[0m\u001b[0;34m,\u001b[0m \u001b[0mrange\u001b[0m\u001b[0;34m=\u001b[0m\u001b[0;34m(\u001b[0m\u001b[0;34m(\u001b[0m\u001b[0;34m-\u001b[0m\u001b[0;36m0.5\u001b[0m\u001b[0;34m,\u001b[0m\u001b[0;36m31.5\u001b[0m\u001b[0;34m)\u001b[0m\u001b[0;34m,\u001b[0m\u001b[0;34m(\u001b[0m\u001b[0;36m30\u001b[0m\u001b[0;34m,\u001b[0m\u001b[0;36m200\u001b[0m\u001b[0;34m)\u001b[0m\u001b[0;34m)\u001b[0m\u001b[0;34m)\u001b[0m\u001b[0;34m\u001b[0m\u001b[0m\n\u001b[1;32m      4\u001b[0m \u001b[0;34m\u001b[0m\u001b[0m\n\u001b[1;32m      5\u001b[0m \u001b[0mfig\u001b[0m\u001b[0;34m,\u001b[0m\u001b[0max\u001b[0m \u001b[0;34m=\u001b[0m \u001b[0mplt\u001b[0m\u001b[0;34m.\u001b[0m\u001b[0msubplots\u001b[0m\u001b[0;34m(\u001b[0m\u001b[0mncols\u001b[0m\u001b[0;34m=\u001b[0m\u001b[0;36m1\u001b[0m\u001b[0;34m,\u001b[0m\u001b[0mnrows\u001b[0m\u001b[0;34m=\u001b[0m\u001b[0;36m1\u001b[0m\u001b[0;34m,\u001b[0m\u001b[0mfigsize\u001b[0m\u001b[0;34m=\u001b[0m\u001b[0;34m(\u001b[0m\u001b[0;36m5.5\u001b[0m\u001b[0;34m*\u001b[0m\u001b[0mgr\u001b[0m\u001b[0;34m,\u001b[0m\u001b[0;36m3\u001b[0m\u001b[0;34m)\u001b[0m\u001b[0;34m)\u001b[0m\u001b[0;34m\u001b[0m\u001b[0m\n",
      "\u001b[0;31mNameError\u001b[0m: name 'flashPE' is not defined"
     ]
    }
   ],
   "source": [
    "x_data = np.repeat(range(flashPE[4].shape[0]),flashPE[4].shape[1])\n",
    "y_data = flashPE[4].flatten()\n",
    "H_on_rolling, xedges, yedges = np.histogram2d(x_data, y_data, bins=(32,20), range=((-0.5,31.5),(30,200)))\n",
    "\n",
    "fig,ax = plt.subplots(ncols=1,nrows=1,figsize=(5.5*gr,3))\n",
    "im = ax.pcolormesh(X, Y, H_on.T, cmap='coolwarm', vmin=0)\n",
    "ax.set_xticks(rangePMT)\n",
    "fig.colorbar(im)\n",
    "ax.set_title('PE per PMT: BNB On (run 1)', loc='left')\n",
    "ax.set_title(title_str, loc='right')\n",
    "ax.set_xlabel('PMT identification number')\n",
    "ax.set_ylabel('PE per PMT')\n",
    "fig.tight_layout()\n",
    "plt.show()\n",
    "\n",
    "fig,ax = plt.subplots(ncols=1,nrows=1,figsize=(5.5*gr,3))\n",
    "im = ax.pcolormesh(X, Y, H_on_rolling.T, cmap='coolwarm', vmin=0)\n",
    "ax.set_xticks(rangePMT)\n",
    "ax.set_title('PE per PMT: BNB On (run 3/4)', loc='left')\n",
    "ax.set_xlabel('PMT identification number')\n",
    "ax.set_ylabel('PE per PMT')\n",
    "fig.colorbar(im)\n",
    "fig.tight_layout()\n",
    "plt.show()"
   ]
  },
  {
   "cell_type": "code",
   "execution_count": 137,
   "metadata": {},
   "outputs": [
    {
     "ename": "NameError",
     "evalue": "name 'flashPE' is not defined",
     "output_type": "error",
     "traceback": [
      "\u001b[0;31m---------------------------------------------------------------------------\u001b[0m",
      "\u001b[0;31mNameError\u001b[0m                                 Traceback (most recent call last)",
      "\u001b[0;32m<ipython-input-137-94ba34925d31>\u001b[0m in \u001b[0;36m<module>\u001b[0;34m()\u001b[0m\n\u001b[0;32m----> 1\u001b[0;31m \u001b[0mmean_1\u001b[0m \u001b[0;34m=\u001b[0m \u001b[0mnp\u001b[0m\u001b[0;34m.\u001b[0m\u001b[0mmean\u001b[0m\u001b[0;34m(\u001b[0m\u001b[0mflashPE\u001b[0m\u001b[0;34m[\u001b[0m\u001b[0;36m2\u001b[0m\u001b[0;34m]\u001b[0m\u001b[0;34m,\u001b[0m\u001b[0maxis\u001b[0m\u001b[0;34m=\u001b[0m\u001b[0;36m1\u001b[0m\u001b[0;34m)\u001b[0m\u001b[0;34m\u001b[0m\u001b[0m\n\u001b[0m\u001b[1;32m      2\u001b[0m \u001b[0mmean_34\u001b[0m \u001b[0;34m=\u001b[0m \u001b[0mnp\u001b[0m\u001b[0;34m.\u001b[0m\u001b[0mmean\u001b[0m\u001b[0;34m(\u001b[0m\u001b[0mflashPE\u001b[0m\u001b[0;34m[\u001b[0m\u001b[0;36m4\u001b[0m\u001b[0;34m]\u001b[0m\u001b[0;34m,\u001b[0m\u001b[0maxis\u001b[0m\u001b[0;34m=\u001b[0m\u001b[0;36m1\u001b[0m\u001b[0;34m)\u001b[0m\u001b[0;34m\u001b[0m\u001b[0m\n\u001b[1;32m      3\u001b[0m \u001b[0mstd34\u001b[0m \u001b[0;34m=\u001b[0m \u001b[0mnp\u001b[0m\u001b[0;34m.\u001b[0m\u001b[0mstd\u001b[0m\u001b[0;34m(\u001b[0m\u001b[0mflashPE\u001b[0m\u001b[0;34m[\u001b[0m\u001b[0;36m4\u001b[0m\u001b[0;34m]\u001b[0m\u001b[0;34m,\u001b[0m\u001b[0maxis\u001b[0m\u001b[0;34m=\u001b[0m\u001b[0;36m1\u001b[0m\u001b[0;34m)\u001b[0m\u001b[0;34m/\u001b[0m\u001b[0mnp\u001b[0m\u001b[0;34m.\u001b[0m\u001b[0msqrt\u001b[0m\u001b[0;34m(\u001b[0m\u001b[0mnp\u001b[0m\u001b[0;34m.\u001b[0m\u001b[0msize\u001b[0m\u001b[0;34m(\u001b[0m\u001b[0mflashPE\u001b[0m\u001b[0;34m[\u001b[0m\u001b[0;36m4\u001b[0m\u001b[0;34m]\u001b[0m\u001b[0;34m,\u001b[0m \u001b[0maxis\u001b[0m\u001b[0;34m=\u001b[0m\u001b[0;36m1\u001b[0m\u001b[0;34m)\u001b[0m\u001b[0;34m)\u001b[0m\u001b[0;34m/\u001b[0m\u001b[0mmean_1\u001b[0m\u001b[0;34m\u001b[0m\u001b[0m\n\u001b[1;32m      4\u001b[0m \u001b[0mratio\u001b[0m \u001b[0;34m=\u001b[0m \u001b[0mmean_34\u001b[0m\u001b[0;34m/\u001b[0m\u001b[0mmean_1\u001b[0m\u001b[0;34m\u001b[0m\u001b[0m\n\u001b[1;32m      5\u001b[0m \u001b[0mplt\u001b[0m\u001b[0;34m.\u001b[0m\u001b[0merrorbar\u001b[0m\u001b[0;34m(\u001b[0m\u001b[0mrangePMT\u001b[0m\u001b[0;34m,\u001b[0m \u001b[0mratio\u001b[0m\u001b[0;34m,\u001b[0m \u001b[0myerr\u001b[0m\u001b[0;34m=\u001b[0m\u001b[0mstd34\u001b[0m\u001b[0;34m,\u001b[0m \u001b[0mxerr\u001b[0m\u001b[0;34m=\u001b[0m \u001b[0;36m0.5\u001b[0m\u001b[0;34m,\u001b[0m \u001b[0mfmt\u001b[0m\u001b[0;34m=\u001b[0m\u001b[0;34m'none'\u001b[0m\u001b[0;34m)\u001b[0m\u001b[0;34m\u001b[0m\u001b[0m\n",
      "\u001b[0;31mNameError\u001b[0m: name 'flashPE' is not defined"
     ]
    }
   ],
   "source": [
    "mean_1 = np.mean(flashPE[2],axis=1)\n",
    "mean_34 = np.mean(flashPE[4],axis=1)\n",
    "std34 = np.std(flashPE[4],axis=1)/np.sqrt(np.size(flashPE[4], axis=1))/mean_1\n",
    "ratio = mean_34/mean_1\n",
    "plt.errorbar(rangePMT, ratio, yerr=std34, xerr= 0.5, fmt='none')\n",
    "plt.axhline(np.mean(ratio), color='C1', label='Mean  : {0:.2f}'.format(np.mean(ratio)))\n",
    "plt.legend(loc = 'lower left')\n",
    "plt.xlabel('PMT identification number')\n",
    "plt.ylabel('Fraction of mean PE')\n",
    "plt.title('Mean #PE run 1 versus run 1/2')\n",
    "plt.ylim(0,1.3)\n",
    "plt.xlim(-0.5,31.5)\n",
    "plt.savefig(outdir+\"pmtperun12.pdf\", bbox_inches=\"tight\")"
   ]
  },
  {
   "cell_type": "code",
   "execution_count": 138,
   "metadata": {},
   "outputs": [
    {
     "ename": "NameError",
     "evalue": "name 'gr' is not defined",
     "output_type": "error",
     "traceback": [
      "\u001b[0;31m---------------------------------------------------------------------------\u001b[0m",
      "\u001b[0;31mNameError\u001b[0m                                 Traceback (most recent call last)",
      "\u001b[0;32m<ipython-input-138-114b582f9c8b>\u001b[0m in \u001b[0;36m<module>\u001b[0;34m()\u001b[0m\n\u001b[0;32m----> 1\u001b[0;31m \u001b[0mfig\u001b[0m\u001b[0;34m,\u001b[0m\u001b[0max\u001b[0m \u001b[0;34m=\u001b[0m \u001b[0mplt\u001b[0m\u001b[0;34m.\u001b[0m\u001b[0msubplots\u001b[0m\u001b[0;34m(\u001b[0m\u001b[0mncols\u001b[0m\u001b[0;34m=\u001b[0m\u001b[0;36m8\u001b[0m\u001b[0;34m,\u001b[0m\u001b[0mnrows\u001b[0m\u001b[0;34m=\u001b[0m\u001b[0;36m4\u001b[0m\u001b[0;34m,\u001b[0m\u001b[0mfigsize\u001b[0m\u001b[0;34m=\u001b[0m\u001b[0;34m(\u001b[0m\u001b[0;36m12\u001b[0m\u001b[0;34m*\u001b[0m\u001b[0mgr\u001b[0m\u001b[0;34m,\u001b[0m\u001b[0;36m12\u001b[0m\u001b[0;34m)\u001b[0m\u001b[0;34m)\u001b[0m\u001b[0;34m\u001b[0m\u001b[0m\n\u001b[0m\u001b[1;32m      2\u001b[0m \u001b[0max\u001b[0m\u001b[0;34m=\u001b[0m\u001b[0max\u001b[0m\u001b[0;34m.\u001b[0m\u001b[0mflatten\u001b[0m\u001b[0;34m(\u001b[0m\u001b[0;34m)\u001b[0m\u001b[0;34m\u001b[0m\u001b[0m\n\u001b[1;32m      3\u001b[0m \u001b[0;34m\u001b[0m\u001b[0m\n\u001b[1;32m      4\u001b[0m \u001b[0;32mfor\u001b[0m \u001b[0mi\u001b[0m\u001b[0;34m,\u001b[0m\u001b[0;34m(\u001b[0m\u001b[0mpe_1\u001b[0m\u001b[0;34m,\u001b[0m\u001b[0mpe_34\u001b[0m\u001b[0;34m)\u001b[0m \u001b[0;32min\u001b[0m \u001b[0menumerate\u001b[0m\u001b[0;34m(\u001b[0m\u001b[0mzip\u001b[0m\u001b[0;34m(\u001b[0m\u001b[0mflashPE\u001b[0m\u001b[0;34m[\u001b[0m\u001b[0;36m2\u001b[0m\u001b[0;34m]\u001b[0m\u001b[0;34m,\u001b[0m\u001b[0mflashPE\u001b[0m\u001b[0;34m[\u001b[0m\u001b[0;36m4\u001b[0m\u001b[0;34m]\u001b[0m\u001b[0;34m)\u001b[0m\u001b[0;34m)\u001b[0m\u001b[0;34m:\u001b[0m\u001b[0;34m\u001b[0m\u001b[0m\n\u001b[1;32m      5\u001b[0m     \u001b[0max\u001b[0m\u001b[0;34m[\u001b[0m\u001b[0mi\u001b[0m\u001b[0;34m]\u001b[0m\u001b[0;34m.\u001b[0m\u001b[0mhist\u001b[0m\u001b[0;34m(\u001b[0m\u001b[0mpe_1\u001b[0m\u001b[0;34m,\u001b[0m \u001b[0mdensity\u001b[0m\u001b[0;34m=\u001b[0m\u001b[0;36m1\u001b[0m\u001b[0;34m,\u001b[0m \u001b[0mrange\u001b[0m\u001b[0;34m=\u001b[0m\u001b[0;34m(\u001b[0m\u001b[0;36m0\u001b[0m\u001b[0;34m,\u001b[0m\u001b[0;36m300\u001b[0m\u001b[0;34m)\u001b[0m\u001b[0;34m,\u001b[0m \u001b[0mlabel\u001b[0m\u001b[0;34m=\u001b[0m\u001b[0;34m'run 1  : {0:.0f}'\u001b[0m\u001b[0;34m.\u001b[0m\u001b[0mformat\u001b[0m\u001b[0;34m(\u001b[0m\u001b[0mnp\u001b[0m\u001b[0;34m.\u001b[0m\u001b[0mmean\u001b[0m\u001b[0;34m(\u001b[0m\u001b[0mpe_1\u001b[0m\u001b[0;34m)\u001b[0m\u001b[0;34m)\u001b[0m\u001b[0;34m,\u001b[0m \u001b[0mhisttype\u001b[0m\u001b[0;34m=\u001b[0m\u001b[0;34m'step'\u001b[0m\u001b[0;34m,\u001b[0m \u001b[0mbins\u001b[0m\u001b[0;34m=\u001b[0m\u001b[0;36m15\u001b[0m\u001b[0;34m)\u001b[0m\u001b[0;34m\u001b[0m\u001b[0m\n",
      "\u001b[0;31mNameError\u001b[0m: name 'gr' is not defined"
     ]
    }
   ],
   "source": [
    "fig,ax = plt.subplots(ncols=8,nrows=4,figsize=(12*gr,12))\n",
    "ax=ax.flatten()\n",
    "\n",
    "for i,(pe_1,pe_34) in enumerate(zip(flashPE[2],flashPE[4])):\n",
    "    ax[i].hist(pe_1, density=1, range=(0,300), label='run 1  : {0:.0f}'.format(np.mean(pe_1)), histtype='step', bins=15)\n",
    "    ax[i].hist(pe_34, density=1, range=(0,300), label='run 3/4: {0:.0f}'.format(np.mean(pe_34)), histtype='step', bins=15)\n",
    "    ax[i].set_yscale('log')\n",
    "    ax[i].set_ylim(1e-4,0.05)\n",
    "    ax[i].legend(title=\"PMT \"+str(i))\n",
    "fig.tight_layout()\n",
    "plt.show()"
   ]
  },
  {
   "cell_type": "code",
   "execution_count": null,
   "metadata": {},
   "outputs": [],
   "source": []
  }
 ],
 "metadata": {
  "kernelspec": {
   "display_name": "Uproot Env",
   "language": "python",
   "name": "uprootenv"
  },
  "language_info": {
   "codemirror_mode": {
    "name": "ipython",
    "version": 3
   },
   "file_extension": ".py",
   "mimetype": "text/x-python",
   "name": "python",
   "nbconvert_exporter": "python",
   "pygments_lexer": "ipython3",
   "version": "3.5.6"
  }
 },
 "nbformat": 4,
 "nbformat_minor": 2
}
