{
 "cells": [
  {
   "cell_type": "code",
   "execution_count": 28,
   "metadata": {},
   "outputs": [],
   "source": [
    "%load_ext autoreload\n",
    "%matplotlib inline"
   ]
  },
  {
   "cell_type": "code",
   "execution_count": 30,
   "metadata": {},
   "outputs": [],
   "source": [
    "import uproot\n",
    "import matplotlib.pyplot as plt\n",
    "import numpy as np\n",
    "import time\n",
    "import os\n",
    "import helpfunction as helper"
   ]
  },
  {
   "cell_type": "code",
   "execution_count": 43,
   "metadata": {},
   "outputs": [],
   "source": [
    "%autoreload"
   ]
  },
  {
   "cell_type": "code",
   "execution_count": 17,
   "metadata": {},
   "outputs": [
    {
     "name": "stdout",
     "output_type": "stream",
     "text": [
      "['NueCC_nue_mcc9_nov.root', 'NueCC_nu_mcc9_nov.root', 'NueCC_on_mcc9_nov.root', 'NueCC_off_mcc9_nov.root']\n"
     ]
    }
   ],
   "source": [
    "outdir= './output/FlashHypo/'\n",
    "inputdir = './input/'  \n",
    "\n",
    "sample_names = ['nue','nu','on','off']\n",
    "file_names = [next((s for s in os.listdir(inputdir) if \"NueCC_\"+sample+\"_\" in s), None) for sample in sample_names]\n",
    "print(file_names)\n",
    "str_ = \"MCC9 November: \"\n",
    "sample_names_title = dict(zip(sample_names, [r\"Intrinsic $\\nu_e$\", r\"BNB $\\nu$\", r\"BNB on (4.4e19)\", r\"BNB off (data)\"]))"
   ]
  },
  {
   "cell_type": "code",
   "execution_count": 18,
   "metadata": {},
   "outputs": [],
   "source": [
    "def search_unsorted(index_large, values_large, index_subset):\n",
    "    if (len(index_large)!=len(values_large)):\n",
    "        return -1\n",
    "    sorter = np.argsort(index_large)\n",
    "    return values_large[sorter][np.searchsorted(index_large[sorter], index_subset)]"
   ]
  },
  {
   "cell_type": "code",
   "execution_count": 27,
   "metadata": {},
   "outputs": [],
   "source": [
    "file_flashes = {}\n",
    "file_slices = {}\n",
    "file_events = {}\n",
    "for i, (idx, fn) in enumerate(zip(sample_names, file_names)):\n",
    "    file_flashes[idx] = uproot.open(inputdir+fn)['pandoraFlashEventBuilding/flashes']\n",
    "    file_slices[idx] = uproot.open(inputdir+fn)['pandoraFlashEventBuilding/slices']\n",
    "    file_events[idx] = uproot.open(inputdir+fn)['pandoraFlashEventBuilding/events']"
   ]
  },
  {
   "cell_type": "markdown",
   "metadata": {},
   "source": [
    "### 2(H-O)/(H+O)-plot"
   ]
  },
  {
   "cell_type": "code",
   "execution_count": 22,
   "metadata": {},
   "outputs": [],
   "source": [
    "this_sample = \"nue\"\n",
    "f_flashes = file_flashes[this_sample]\n",
    "f_slices = file_slices[this_sample]\n",
    "\n",
    "flash_ids = f_flashes.array(\"evt_time_nsec\")\n",
    "flash_pes = f_flashes.array(\"peSpectrum\")\n",
    "\n",
    "slice_purity = f_slices.array(\"purity\")>0.8\n",
    "slice_completeness = f_slices.array(\"completeness\")>0.8\n",
    "slice_hypos = f_slices.array(\"peHypothesisSpectrum\")\n",
    "slice_flashmatched = (slice_hypos.counts==32) & (slice_hypos.sum()>0.0)\n",
    "slice_mask = slice_purity & slice_completeness & slice_flashmatched\n",
    "slice_ids = f_slices.array(\"evt_time_nsec\")[slice_mask]\n",
    "slice_hypos = np.array(slice_hypos[slice_mask])"
   ]
  },
  {
   "cell_type": "code",
   "execution_count": 23,
   "metadata": {},
   "outputs": [],
   "source": [
    "slice_pe = np.array(search_unsorted(flash_ids, flash_pes, slice_ids))\n",
    "\n",
    "# 2(H-O)/(H+O)\n",
    "a = 2*(slice_hypos-slice_pe)\n",
    "b = (slice_hypos+slice_pe)\n",
    "y_vals = np.divide(a, b, out=np.zeros_like(a), where=b!=0)"
   ]
  },
  {
   "cell_type": "code",
   "execution_count": 24,
   "metadata": {},
   "outputs": [],
   "source": [
    "y = np.nan_to_num(y_vals).T.flatten()\n",
    "x = np.repeat(range(32),len(y_vals))\n",
    "mask = y!=0"
   ]
  },
  {
   "cell_type": "code",
   "execution_count": 12,
   "metadata": {
    "scrolled": false
   },
   "outputs": [
    {
     "data": {
      "image/png": "[encoded data removed]",
      "text/plain": [
       "<Figure size 720x252 with 2 Axes>"
      ]
     },
     "metadata": {
      "needs_background": "light"
     },
     "output_type": "display_data"
    }
   ],
   "source": [
    "fig, ax = plt.subplots(1, 2, sharex=True, figsize=(10,3.5))\n",
    "\n",
    "ax[0].hist2d(x[mask],y[mask], range=((-0.5,31.5),(-2,2)), bins=(32,50), cmap=\"coolwarm\")\n",
    "ax[1].hist2d(x[mask],y[mask], range=((-0.5,31.5),(-1,1)), bins=(32,50), cmap=\"coolwarm\")\n",
    "ax[0].set_ylabel(r\"$2 \\times \\dfrac{H-O}{H+O}$\")\n",
    "ax[0].set_xlabel(r\"PMT number\")\n",
    "ax[1].set_xlabel(r\"PMT number\")\n",
    "\n",
    "fig.suptitle(str_+sample_names[this_sample])\n",
    "fig.savefig(outdir+\"nu.pdf\", bbox_inches='tight')"
   ]
  },
  {
   "cell_type": "code",
   "execution_count": 25,
   "metadata": {},
   "outputs": [
    {
     "data": {
      "text/plain": [
       "(array([ 3481.,  2424.,  4431.,  6984.,  8348.,  4336.,   988.,   530.,\n",
       "          409., 17112.]),\n",
       " array([-2. , -1.6, -1.2, -0.8, -0.4,  0. ,  0.4,  0.8,  1.2,  1.6,  2. ]),\n",
       " <a list of 10 Patch objects>)"
      ]
     },
     "execution_count": 25,
     "metadata": {},
     "output_type": "execute_result"
    },
    {
     "data": {
      "image/png": "[encoded data removed]",
      "text/plain": [
       "<Figure size 432x288 with 1 Axes>"
      ]
     },
     "metadata": {
      "needs_background": "light"
     },
     "output_type": "display_data"
    }
   ],
   "source": [
    "pmt0 = list(np.nan_to_num(y_vals).T[0])\n",
    "plt.hist(pmt0, range=(-2,2))"
   ]
  },
  {
   "cell_type": "markdown",
   "metadata": {},
   "source": [
    "### Single flash event viewer"
   ]
  },
  {
   "cell_type": "code",
   "execution_count": 49,
   "metadata": {
    "scrolled": false
   },
   "outputs": [
    {
     "name": "stdout",
     "output_type": "stream",
     "text": [
      "The combination of event, subrun and run was found 3 times in the sample.\n",
      "Taking the first one...\n",
      "\n",
      "Run 1 , Subrun 560 , Event 11183  found! \n",
      " ------------------------------\n",
      "\n",
      "--- EVENT INFO ---\n",
      "nFlashes :\t 1\n",
      "hasBeamFlash :\t True\n",
      "nSlices :\t 5\n",
      "nSlicesAfterPrecuts :\t 1\n",
      "foundATargetSlice :\t True\n",
      "nuCCNC :\t 0\n",
      "nuEnergy :\t 0.7394125\n",
      "leptonEnergy :\t 0.4852529\n",
      "nuInteractionTime :\t 3633.1887\n",
      "nuPdgCode :\t 12\n",
      "nuVertexX :\t 100.75864\n",
      "nuVertexY :\t 55.153923\n",
      "nuVertexZ :\t 520.9212\n",
      "\n",
      "--- FLASH INFO ---\n",
      "time :\t [3.69125]\n",
      "centerY :\t [6.5169935]\n",
      "centerZ :\t [542.2384]\n",
      "widthY :\t [43.86187]\n",
      "widthZ :\t [105.7769]\n",
      "totalPE :\t [2202.1165]\n",
      "inBeamWindow :\t [ True]\n",
      "isBeamFlash :\t [ True]\n",
      "\n",
      "--- SLICE INFO ---\n",
      "hasDeposition :\t [ True  True  True  True  True]\n",
      "totalCharge :\t [50157.496 19578.129 54153.734 13920.553  7400.84 ]\n",
      "centerX :\t [ 95.140884 216.36554   88.22985  148.18013  208.7209  ]\n",
      "centerY :\t [ 50.010834  17.52477   33.912777 104.70282  -94.50838 ]\n",
      "centerZ :\t [128.7582   454.59784  541.65643   27.432934 571.85284 ]\n",
      "minX :\t [ 62.593597 212.75714   53.083324 135.76106  199.38881 ]\n",
      "nHits :\t [1662  445 1176  377  161]\n",
      "deltaY :\t [  43.49384    11.007777   27.395782   98.18583  -101.02537 ]\n",
      "deltaZ :\t [-413.48022    -87.640564    -0.5819702 -514.8055      29.61444  ]\n",
      "deltaYSigma :\t [ 0.99160933  0.2509646   0.62459224  2.2385235  -2.3032618 ]\n",
      "deltaZSigma :\t [-3.9089842  -0.82854164 -0.00550186 -4.866899    0.27997077]\n",
      "chargeToLightRatio :\t [22.776949   8.890596  24.591677   6.3214426  3.360785 ]\n",
      "passesPreCuts :\t [False False  True False False]\n",
      "flashMatchScore :\t [-3.4028235e+38 -3.4028235e+38  2.7257064e-01 -3.4028235e+38\n",
      " -3.4028235e+38]\n",
      "flashMatchX :\t [ 1.6806589e-27  3.6013371e-43  4.6767124e+01 -0.0000000e+00\n",
      "  0.0000000e+00]\n",
      "totalPEHypothesis :\t [-3.4028235e+38 -3.4028235e+38  2.0130298e+03 -3.4028235e+38\n",
      " -3.4028235e+38]\n",
      "isTaggedAsTarget :\t [False False  True False False]\n",
      "isConsideredByFlashId :\t [ True  True  True  True  True]\n",
      "topologicalScore :\t [0.88341314 0.03340556 0.6506732  0.07933007 0.09090061]\n",
      "hasBestTopologicalScore :\t [ True False False False False]\n",
      "purity :\t [0.         0.         0.91241497 0.         0.        ]\n",
      "completeness :\t [0.        0.        0.9772313 0.        0.       ]\n",
      "------------------------------ \n",
      "Producing plot for Data event!\n",
      "Image saved: ./output/helper/event_viewer_run1_subrun560_event11183.pdf\n"
     ]
    },
    {
     "data": {
      "image/png": "[encoded data removed]",
      "text/plain": [
       "<Figure size 640.728x396 with 1 Axes>"
      ]
     },
     "metadata": {
      "needs_background": "light"
     },
     "output_type": "display_data"
    }
   ],
   "source": [
    "sample = \"nue\"\n",
    "run = 1\n",
    "subrun = 560\n",
    "event = 11183\n",
    "\n",
    "sample_dict = {'events': file_events[sample],\n",
    "               'flashes': file_flashes[sample],\n",
    "               'slices': file_slices[sample]\n",
    "              }\n",
    "\n",
    "helper.SingleEventViewer(run,subrun,event, sample_dict, save_plot=True)"
   ]
  },
  {
   "cell_type": "code",
   "execution_count": null,
   "metadata": {},
   "outputs": [],
   "source": [
    "# Add the log(charge/light)-x_center field: xcl_ratio\n",
    "#for sample, sample_dict in file_dict.items():\n",
    "#    d = sample_dict['slices']\n",
    "#    sample_dict['slices'][b'xcl_ratio'] = m_xcl*np.log10(d[b'chargeToLightRatio'])- d[b'centerX']"
   ]
  },
  {
   "cell_type": "code",
   "execution_count": null,
   "metadata": {},
   "outputs": [],
   "source": [
    "# Save the PE values of beam flashes in a seperate numpy array:\n",
    "# For the rolling sample, We only want to compare the PE rates with the run3/4 part\n",
    "flashPE = []\n",
    "sliceHypothesisPE = []\n",
    "for sample in dict_names: \n",
    "    print(sample)\n",
    "    mask = file_dict[sample]['flashes'][b'isBeamFlash']\n",
    "    print(sum(mask))\n",
    "    if(sample=='on_rolling'):\n",
    "        mask = mask & (file_dict[sample]['flashes'][b'run']>13697)\n",
    "    temp = file_dict[sample]['flashes'][b'peSpectrum'][mask]\n",
    "    flashPE.append(temp.flatten().reshape(len(temp),32).T)\n",
    "    del file_dict[sample]['flashes'][b'peSpectrum']\n",
    "    \n",
    "    mask = file_dict[sample]['slices'][b'isConsideredByFlashId']\n",
    "    if(sample=='on_rolling'):\n",
    "        mask = mask & (file_dict[sample]['slices'][b'run']>13697)\n",
    "    temp = file_dict[sample]['slices'][b'peHypothesisSpectrum'][mask]\n",
    "    sliceHypothesisPE.append(temp.flatten().reshape(sum(temp.counts==32),32).T)\n",
    "    del file_dict[sample]['slices'][b'peHypothesisSpectrum']"
   ]
  },
  {
   "cell_type": "code",
   "execution_count": null,
   "metadata": {},
   "outputs": [],
   "source": [
    "# Make a comparison of the average PE per PMT in the way marco does!\n",
    "\n",
    "x_data = np.repeat(range(flashPE[3].shape[0]),flashPE[3].shape[1])\n",
    "y_data = flashPE[3].flatten()\n",
    "H_off, xedges, yedges = np.histogram2d(x_data, y_data, bins=(32,20), range=((-0.5,31.5),(30,200)))\n",
    "x_data = np.repeat(range(flashPE[2].shape[0]),flashPE[2].shape[1])\n",
    "y_data = flashPE[2].flatten()\n",
    "H_on, _, _ = np.histogram2d(x_data, y_data, bins=(32,20), range=((-0.5,31.5),(30,200)))\n",
    "H = H_on-H_off*scale_off\n",
    "X, Y = np.meshgrid(xedges, yedges)\n",
    "\n",
    "fig,ax = plt.subplots(ncols=1,nrows=1,figsize=(5.5*gr,3))\n",
    "im = ax.pcolormesh(X, Y, H_on.T, cmap='coolwarm', vmin=0)\n",
    "ax.set_xticks(rangePMT)\n",
    "fig.colorbar(im)\n",
    "ax.set_title('PE per PMT: BNB On (run 1)', loc='left')\n",
    "ax.set_title(title_str, loc='right')\n",
    "ax.set_xlabel('PMT identification number')\n",
    "ax.set_ylabel('PE per PMT')\n",
    "fig.tight_layout()\n",
    "plt.show()\n",
    "\n",
    "fig,ax = plt.subplots(ncols=1,nrows=1,figsize=(5.5*gr,3))\n",
    "im = ax.pcolormesh(X, Y, H.T, cmap='coolwarm', vmin=0)\n",
    "ax.set_xticks(rangePMT)\n",
    "ax.set_title('PE per PMT: BNB On - BNB Off (run 1)', loc='left')\n",
    "ax.set_xlabel('PMT identification number')\n",
    "ax.set_ylabel('PE per PMT')\n",
    "fig.colorbar(im)\n",
    "fig.tight_layout()\n",
    "plt.show()\n",
    "\n",
    "x_data = np.repeat(range(flashPE[1].shape[0]),flashPE[1].shape[1])\n",
    "y_data = flashPE[1].flatten()\n",
    "H_mc, xedges, yedges = np.histogram2d(x_data, y_data, bins=(32,20), range=((-0.5,31.5),(30,200)))\n",
    "\n",
    "fig,ax = plt.subplots(ncols=1,nrows=1,figsize=(5.5*gr,3))\n",
    "im = ax.pcolormesh(X, Y, H_mc.T, cmap='coolwarm', vmin=0)\n",
    "ax.set_xticks(rangePMT)\n",
    "ax.set_title(r'PE per PMT: BNB $\\nu$ (MC)', loc='left')\n",
    "ax.set_xlabel('PMT identification number')\n",
    "ax.set_ylabel('PE per PMT')\n",
    "fig.colorbar(im)\n",
    "fig.tight_layout()\n",
    "plt.show()"
   ]
  },
  {
   "cell_type": "code",
   "execution_count": 135,
   "metadata": {},
   "outputs": [
    {
     "ename": "NameError",
     "evalue": "name 'flashPE' is not defined",
     "output_type": "error",
     "traceback": [
      "\u001b[0;31m---------------------------------------------------------------------------\u001b[0m",
      "\u001b[0;31mNameError\u001b[0m                                 Traceback (most recent call last)",
      "\u001b[0;32m<ipython-input-135-d593823a7be0>\u001b[0m in \u001b[0;36m<module>\u001b[0;34m()\u001b[0m\n\u001b[0;32m----> 1\u001b[0;31m \u001b[0mmean_mc\u001b[0m \u001b[0;34m=\u001b[0m \u001b[0mnp\u001b[0m\u001b[0;34m.\u001b[0m\u001b[0mmean\u001b[0m\u001b[0;34m(\u001b[0m\u001b[0mflashPE\u001b[0m\u001b[0;34m[\u001b[0m\u001b[0;36m1\u001b[0m\u001b[0;34m]\u001b[0m\u001b[0;34m,\u001b[0m\u001b[0maxis\u001b[0m\u001b[0;34m=\u001b[0m\u001b[0;36m1\u001b[0m\u001b[0;34m)\u001b[0m\u001b[0;34m\u001b[0m\u001b[0m\n\u001b[0m\u001b[1;32m      2\u001b[0m \u001b[0mmean_on\u001b[0m \u001b[0;34m=\u001b[0m \u001b[0mnp\u001b[0m\u001b[0;34m.\u001b[0m\u001b[0mmean\u001b[0m\u001b[0;34m(\u001b[0m\u001b[0mflashPE\u001b[0m\u001b[0;34m[\u001b[0m\u001b[0;36m2\u001b[0m\u001b[0;34m]\u001b[0m\u001b[0;34m,\u001b[0m\u001b[0maxis\u001b[0m\u001b[0;34m=\u001b[0m\u001b[0;36m1\u001b[0m\u001b[0;34m)\u001b[0m\u001b[0;34m\u001b[0m\u001b[0m\n\u001b[1;32m      3\u001b[0m \u001b[0mmean_off\u001b[0m \u001b[0;34m=\u001b[0m \u001b[0mnp\u001b[0m\u001b[0;34m.\u001b[0m\u001b[0mmean\u001b[0m\u001b[0;34m(\u001b[0m\u001b[0mflashPE\u001b[0m\u001b[0;34m[\u001b[0m\u001b[0;36m3\u001b[0m\u001b[0;34m]\u001b[0m\u001b[0;34m,\u001b[0m\u001b[0maxis\u001b[0m\u001b[0;34m=\u001b[0m\u001b[0;36m1\u001b[0m\u001b[0;34m)\u001b[0m\u001b[0;34m\u001b[0m\u001b[0m\n\u001b[1;32m      4\u001b[0m \u001b[0;34m\u001b[0m\u001b[0m\n\u001b[1;32m      5\u001b[0m \u001b[0mprint\u001b[0m\u001b[0;34m(\u001b[0m\u001b[0;34m\"BNB on \"\u001b[0m\u001b[0;34m,\u001b[0m \u001b[0mmean_on\u001b[0m\u001b[0;34m)\u001b[0m\u001b[0;34m\u001b[0m\u001b[0m\n",
      "\u001b[0;31mNameError\u001b[0m: name 'flashPE' is not defined"
     ]
    }
   ],
   "source": [
    "mean_mc = np.mean(flashPE[1],axis=1)\n",
    "mean_on = np.mean(flashPE[2],axis=1)\n",
    "mean_off = np.mean(flashPE[3],axis=1)\n",
    "\n",
    "print(\"BNB on \", mean_on)\n",
    "print(\"BNB off \", mean_off)\n",
    "print(\"BNB MC \", mean_mc)\n",
    "\n",
    "fig,ax = plt.subplots(ncols=8,nrows=4,figsize=(12*gr,12))\n",
    "ax=ax.flatten()\n",
    "\n",
    "for i,(pe_on,pe_off, pe_mc) in enumerate(zip(flashPE[2], flashPE[3], flashPE[1])):\n",
    "    ax[i].hist(pe_mc, density=1, range=(0,300), label='MC  : {0:.0f}'.format(np.mean(pe_mc)), histtype='step', bins=15)\n",
    "    ax[i].hist(pe_on, density=1, range=(0,300), label='BNB On: {0:.0f}'.format(np.mean(pe_on)), histtype='step', bins=15)\n",
    "    ax[i].hist(pe_off, density=1, range=(0,300), label='BNB On: {0:.0f}'.format(np.mean(pe_off)), histtype='step', bins=15)\n",
    "    ax[i].set_yscale('log')\n",
    "    ax[i].set_ylim(1e-4,0.05)\n",
    "    ax[i].legend(title=\"PMT \"+str(i))\n",
    "fig.tight_layout()\n",
    "plt.savefig(outdir+\"pe_per_pmt_data_mc.pdf\", bbox_inches=\"tight\")\n",
    "plt.show()\n",
    "\n",
    "ratio_on  = mean_on/mean_mc\n",
    "ratio_off = mean_off/mean_mc\n",
    "\n",
    "plt.errorbar(rangePMT, ratio_on, xerr= 0.5, fmt='none', label='BNB On')\n",
    "plt.errorbar(rangePMT, ratio_off, xerr= 0.5, fmt='none', label='BNB Off')\n",
    "\n",
    "plt.axhline(1, color='C2', label='MC')\n",
    "plt.legend(loc = 'lower left')\n",
    "plt.xlabel('PMT identification number')\n",
    "plt.ylabel('Fraction of mean PE')\n",
    "plt.title('Mean #PE Data versus MC')\n",
    "plt.ylim(0,1.3)\n",
    "plt.xlim(-0.5,31.5)\n",
    "plt.savefig(outdir+\"pe_per_pmt_data_mc_ratio.pdf\", bbox_inches=\"tight\")"
   ]
  },
  {
   "cell_type": "code",
   "execution_count": 136,
   "metadata": {},
   "outputs": [
    {
     "ename": "NameError",
     "evalue": "name 'flashPE' is not defined",
     "output_type": "error",
     "traceback": [
      "\u001b[0;31m---------------------------------------------------------------------------\u001b[0m",
      "\u001b[0;31mNameError\u001b[0m                                 Traceback (most recent call last)",
      "\u001b[0;32m<ipython-input-136-cc613e285a2e>\u001b[0m in \u001b[0;36m<module>\u001b[0;34m()\u001b[0m\n\u001b[0;32m----> 1\u001b[0;31m \u001b[0mx_data\u001b[0m \u001b[0;34m=\u001b[0m \u001b[0mnp\u001b[0m\u001b[0;34m.\u001b[0m\u001b[0mrepeat\u001b[0m\u001b[0;34m(\u001b[0m\u001b[0mrange\u001b[0m\u001b[0;34m(\u001b[0m\u001b[0mflashPE\u001b[0m\u001b[0;34m[\u001b[0m\u001b[0;36m4\u001b[0m\u001b[0;34m]\u001b[0m\u001b[0;34m.\u001b[0m\u001b[0mshape\u001b[0m\u001b[0;34m[\u001b[0m\u001b[0;36m0\u001b[0m\u001b[0;34m]\u001b[0m\u001b[0;34m)\u001b[0m\u001b[0;34m,\u001b[0m\u001b[0mflashPE\u001b[0m\u001b[0;34m[\u001b[0m\u001b[0;36m4\u001b[0m\u001b[0;34m]\u001b[0m\u001b[0;34m.\u001b[0m\u001b[0mshape\u001b[0m\u001b[0;34m[\u001b[0m\u001b[0;36m1\u001b[0m\u001b[0;34m]\u001b[0m\u001b[0;34m)\u001b[0m\u001b[0;34m\u001b[0m\u001b[0m\n\u001b[0m\u001b[1;32m      2\u001b[0m \u001b[0my_data\u001b[0m \u001b[0;34m=\u001b[0m \u001b[0mflashPE\u001b[0m\u001b[0;34m[\u001b[0m\u001b[0;36m4\u001b[0m\u001b[0;34m]\u001b[0m\u001b[0;34m.\u001b[0m\u001b[0mflatten\u001b[0m\u001b[0;34m(\u001b[0m\u001b[0;34m)\u001b[0m\u001b[0;34m\u001b[0m\u001b[0m\n\u001b[1;32m      3\u001b[0m \u001b[0mH_on_rolling\u001b[0m\u001b[0;34m,\u001b[0m \u001b[0mxedges\u001b[0m\u001b[0;34m,\u001b[0m \u001b[0myedges\u001b[0m \u001b[0;34m=\u001b[0m \u001b[0mnp\u001b[0m\u001b[0;34m.\u001b[0m\u001b[0mhistogram2d\u001b[0m\u001b[0;34m(\u001b[0m\u001b[0mx_data\u001b[0m\u001b[0;34m,\u001b[0m \u001b[0my_data\u001b[0m\u001b[0;34m,\u001b[0m \u001b[0mbins\u001b[0m\u001b[0;34m=\u001b[0m\u001b[0;34m(\u001b[0m\u001b[0;36m32\u001b[0m\u001b[0;34m,\u001b[0m\u001b[0;36m20\u001b[0m\u001b[0;34m)\u001b[0m\u001b[0;34m,\u001b[0m \u001b[0mrange\u001b[0m\u001b[0;34m=\u001b[0m\u001b[0;34m(\u001b[0m\u001b[0;34m(\u001b[0m\u001b[0;34m-\u001b[0m\u001b[0;36m0.5\u001b[0m\u001b[0;34m,\u001b[0m\u001b[0;36m31.5\u001b[0m\u001b[0;34m)\u001b[0m\u001b[0;34m,\u001b[0m\u001b[0;34m(\u001b[0m\u001b[0;36m30\u001b[0m\u001b[0;34m,\u001b[0m\u001b[0;36m200\u001b[0m\u001b[0;34m)\u001b[0m\u001b[0;34m)\u001b[0m\u001b[0;34m)\u001b[0m\u001b[0;34m\u001b[0m\u001b[0m\n\u001b[1;32m      4\u001b[0m \u001b[0;34m\u001b[0m\u001b[0m\n\u001b[1;32m      5\u001b[0m \u001b[0mfig\u001b[0m\u001b[0;34m,\u001b[0m\u001b[0max\u001b[0m \u001b[0;34m=\u001b[0m \u001b[0mplt\u001b[0m\u001b[0;34m.\u001b[0m\u001b[0msubplots\u001b[0m\u001b[0;34m(\u001b[0m\u001b[0mncols\u001b[0m\u001b[0;34m=\u001b[0m\u001b[0;36m1\u001b[0m\u001b[0;34m,\u001b[0m\u001b[0mnrows\u001b[0m\u001b[0;34m=\u001b[0m\u001b[0;36m1\u001b[0m\u001b[0;34m,\u001b[0m\u001b[0mfigsize\u001b[0m\u001b[0;34m=\u001b[0m\u001b[0;34m(\u001b[0m\u001b[0;36m5.5\u001b[0m\u001b[0;34m*\u001b[0m\u001b[0mgr\u001b[0m\u001b[0;34m,\u001b[0m\u001b[0;36m3\u001b[0m\u001b[0;34m)\u001b[0m\u001b[0;34m)\u001b[0m\u001b[0;34m\u001b[0m\u001b[0m\n",
      "\u001b[0;31mNameError\u001b[0m: name 'flashPE' is not defined"
     ]
    }
   ],
   "source": [
    "x_data = np.repeat(range(flashPE[4].shape[0]),flashPE[4].shape[1])\n",
    "y_data = flashPE[4].flatten()\n",
    "H_on_rolling, xedges, yedges = np.histogram2d(x_data, y_data, bins=(32,20), range=((-0.5,31.5),(30,200)))\n",
    "\n",
    "fig,ax = plt.subplots(ncols=1,nrows=1,figsize=(5.5*gr,3))\n",
    "im = ax.pcolormesh(X, Y, H_on.T, cmap='coolwarm', vmin=0)\n",
    "ax.set_xticks(rangePMT)\n",
    "fig.colorbar(im)\n",
    "ax.set_title('PE per PMT: BNB On (run 1)', loc='left')\n",
    "ax.set_title(title_str, loc='right')\n",
    "ax.set_xlabel('PMT identification number')\n",
    "ax.set_ylabel('PE per PMT')\n",
    "fig.tight_layout()\n",
    "plt.show()\n",
    "\n",
    "fig,ax = plt.subplots(ncols=1,nrows=1,figsize=(5.5*gr,3))\n",
    "im = ax.pcolormesh(X, Y, H_on_rolling.T, cmap='coolwarm', vmin=0)\n",
    "ax.set_xticks(rangePMT)\n",
    "ax.set_title('PE per PMT: BNB On (run 3/4)', loc='left')\n",
    "ax.set_xlabel('PMT identification number')\n",
    "ax.set_ylabel('PE per PMT')\n",
    "fig.colorbar(im)\n",
    "fig.tight_layout()\n",
    "plt.show()"
   ]
  },
  {
   "cell_type": "code",
   "execution_count": 137,
   "metadata": {},
   "outputs": [
    {
     "ename": "NameError",
     "evalue": "name 'flashPE' is not defined",
     "output_type": "error",
     "traceback": [
      "\u001b[0;31m---------------------------------------------------------------------------\u001b[0m",
      "\u001b[0;31mNameError\u001b[0m                                 Traceback (most recent call last)",
      "\u001b[0;32m<ipython-input-137-94ba34925d31>\u001b[0m in \u001b[0;36m<module>\u001b[0;34m()\u001b[0m\n\u001b[0;32m----> 1\u001b[0;31m \u001b[0mmean_1\u001b[0m \u001b[0;34m=\u001b[0m \u001b[0mnp\u001b[0m\u001b[0;34m.\u001b[0m\u001b[0mmean\u001b[0m\u001b[0;34m(\u001b[0m\u001b[0mflashPE\u001b[0m\u001b[0;34m[\u001b[0m\u001b[0;36m2\u001b[0m\u001b[0;34m]\u001b[0m\u001b[0;34m,\u001b[0m\u001b[0maxis\u001b[0m\u001b[0;34m=\u001b[0m\u001b[0;36m1\u001b[0m\u001b[0;34m)\u001b[0m\u001b[0;34m\u001b[0m\u001b[0m\n\u001b[0m\u001b[1;32m      2\u001b[0m \u001b[0mmean_34\u001b[0m \u001b[0;34m=\u001b[0m \u001b[0mnp\u001b[0m\u001b[0;34m.\u001b[0m\u001b[0mmean\u001b[0m\u001b[0;34m(\u001b[0m\u001b[0mflashPE\u001b[0m\u001b[0;34m[\u001b[0m\u001b[0;36m4\u001b[0m\u001b[0;34m]\u001b[0m\u001b[0;34m,\u001b[0m\u001b[0maxis\u001b[0m\u001b[0;34m=\u001b[0m\u001b[0;36m1\u001b[0m\u001b[0;34m)\u001b[0m\u001b[0;34m\u001b[0m\u001b[0m\n\u001b[1;32m      3\u001b[0m \u001b[0mstd34\u001b[0m \u001b[0;34m=\u001b[0m \u001b[0mnp\u001b[0m\u001b[0;34m.\u001b[0m\u001b[0mstd\u001b[0m\u001b[0;34m(\u001b[0m\u001b[0mflashPE\u001b[0m\u001b[0;34m[\u001b[0m\u001b[0;36m4\u001b[0m\u001b[0;34m]\u001b[0m\u001b[0;34m,\u001b[0m\u001b[0maxis\u001b[0m\u001b[0;34m=\u001b[0m\u001b[0;36m1\u001b[0m\u001b[0;34m)\u001b[0m\u001b[0;34m/\u001b[0m\u001b[0mnp\u001b[0m\u001b[0;34m.\u001b[0m\u001b[0msqrt\u001b[0m\u001b[0;34m(\u001b[0m\u001b[0mnp\u001b[0m\u001b[0;34m.\u001b[0m\u001b[0msize\u001b[0m\u001b[0;34m(\u001b[0m\u001b[0mflashPE\u001b[0m\u001b[0;34m[\u001b[0m\u001b[0;36m4\u001b[0m\u001b[0;34m]\u001b[0m\u001b[0;34m,\u001b[0m \u001b[0maxis\u001b[0m\u001b[0;34m=\u001b[0m\u001b[0;36m1\u001b[0m\u001b[0;34m)\u001b[0m\u001b[0;34m)\u001b[0m\u001b[0;34m/\u001b[0m\u001b[0mmean_1\u001b[0m\u001b[0;34m\u001b[0m\u001b[0m\n\u001b[1;32m      4\u001b[0m \u001b[0mratio\u001b[0m \u001b[0;34m=\u001b[0m \u001b[0mmean_34\u001b[0m\u001b[0;34m/\u001b[0m\u001b[0mmean_1\u001b[0m\u001b[0;34m\u001b[0m\u001b[0m\n\u001b[1;32m      5\u001b[0m \u001b[0mplt\u001b[0m\u001b[0;34m.\u001b[0m\u001b[0merrorbar\u001b[0m\u001b[0;34m(\u001b[0m\u001b[0mrangePMT\u001b[0m\u001b[0;34m,\u001b[0m \u001b[0mratio\u001b[0m\u001b[0;34m,\u001b[0m \u001b[0myerr\u001b[0m\u001b[0;34m=\u001b[0m\u001b[0mstd34\u001b[0m\u001b[0;34m,\u001b[0m \u001b[0mxerr\u001b[0m\u001b[0;34m=\u001b[0m \u001b[0;36m0.5\u001b[0m\u001b[0;34m,\u001b[0m \u001b[0mfmt\u001b[0m\u001b[0;34m=\u001b[0m\u001b[0;34m'none'\u001b[0m\u001b[0;34m)\u001b[0m\u001b[0;34m\u001b[0m\u001b[0m\n",
      "\u001b[0;31mNameError\u001b[0m: name 'flashPE' is not defined"
     ]
    }
   ],
   "source": [
    "mean_1 = np.mean(flashPE[2],axis=1)\n",
    "mean_34 = np.mean(flashPE[4],axis=1)\n",
    "std34 = np.std(flashPE[4],axis=1)/np.sqrt(np.size(flashPE[4], axis=1))/mean_1\n",
    "ratio = mean_34/mean_1\n",
    "plt.errorbar(rangePMT, ratio, yerr=std34, xerr= 0.5, fmt='none')\n",
    "plt.axhline(np.mean(ratio), color='C1', label='Mean  : {0:.2f}'.format(np.mean(ratio)))\n",
    "plt.legend(loc = 'lower left')\n",
    "plt.xlabel('PMT identification number')\n",
    "plt.ylabel('Fraction of mean PE')\n",
    "plt.title('Mean #PE run 1 versus run 1/2')\n",
    "plt.ylim(0,1.3)\n",
    "plt.xlim(-0.5,31.5)\n",
    "plt.savefig(outdir+\"pmtperun12.pdf\", bbox_inches=\"tight\")"
   ]
  },
  {
   "cell_type": "code",
   "execution_count": 138,
   "metadata": {},
   "outputs": [
    {
     "ename": "NameError",
     "evalue": "name 'gr' is not defined",
     "output_type": "error",
     "traceback": [
      "\u001b[0;31m---------------------------------------------------------------------------\u001b[0m",
      "\u001b[0;31mNameError\u001b[0m                                 Traceback (most recent call last)",
      "\u001b[0;32m<ipython-input-138-114b582f9c8b>\u001b[0m in \u001b[0;36m<module>\u001b[0;34m()\u001b[0m\n\u001b[0;32m----> 1\u001b[0;31m \u001b[0mfig\u001b[0m\u001b[0;34m,\u001b[0m\u001b[0max\u001b[0m \u001b[0;34m=\u001b[0m \u001b[0mplt\u001b[0m\u001b[0;34m.\u001b[0m\u001b[0msubplots\u001b[0m\u001b[0;34m(\u001b[0m\u001b[0mncols\u001b[0m\u001b[0;34m=\u001b[0m\u001b[0;36m8\u001b[0m\u001b[0;34m,\u001b[0m\u001b[0mnrows\u001b[0m\u001b[0;34m=\u001b[0m\u001b[0;36m4\u001b[0m\u001b[0;34m,\u001b[0m\u001b[0mfigsize\u001b[0m\u001b[0;34m=\u001b[0m\u001b[0;34m(\u001b[0m\u001b[0;36m12\u001b[0m\u001b[0;34m*\u001b[0m\u001b[0mgr\u001b[0m\u001b[0;34m,\u001b[0m\u001b[0;36m12\u001b[0m\u001b[0;34m)\u001b[0m\u001b[0;34m)\u001b[0m\u001b[0;34m\u001b[0m\u001b[0m\n\u001b[0m\u001b[1;32m      2\u001b[0m \u001b[0max\u001b[0m\u001b[0;34m=\u001b[0m\u001b[0max\u001b[0m\u001b[0;34m.\u001b[0m\u001b[0mflatten\u001b[0m\u001b[0;34m(\u001b[0m\u001b[0;34m)\u001b[0m\u001b[0;34m\u001b[0m\u001b[0m\n\u001b[1;32m      3\u001b[0m \u001b[0;34m\u001b[0m\u001b[0m\n\u001b[1;32m      4\u001b[0m \u001b[0;32mfor\u001b[0m \u001b[0mi\u001b[0m\u001b[0;34m,\u001b[0m\u001b[0;34m(\u001b[0m\u001b[0mpe_1\u001b[0m\u001b[0;34m,\u001b[0m\u001b[0mpe_34\u001b[0m\u001b[0;34m)\u001b[0m \u001b[0;32min\u001b[0m \u001b[0menumerate\u001b[0m\u001b[0;34m(\u001b[0m\u001b[0mzip\u001b[0m\u001b[0;34m(\u001b[0m\u001b[0mflashPE\u001b[0m\u001b[0;34m[\u001b[0m\u001b[0;36m2\u001b[0m\u001b[0;34m]\u001b[0m\u001b[0;34m,\u001b[0m\u001b[0mflashPE\u001b[0m\u001b[0;34m[\u001b[0m\u001b[0;36m4\u001b[0m\u001b[0;34m]\u001b[0m\u001b[0;34m)\u001b[0m\u001b[0;34m)\u001b[0m\u001b[0;34m:\u001b[0m\u001b[0;34m\u001b[0m\u001b[0m\n\u001b[1;32m      5\u001b[0m     \u001b[0max\u001b[0m\u001b[0;34m[\u001b[0m\u001b[0mi\u001b[0m\u001b[0;34m]\u001b[0m\u001b[0;34m.\u001b[0m\u001b[0mhist\u001b[0m\u001b[0;34m(\u001b[0m\u001b[0mpe_1\u001b[0m\u001b[0;34m,\u001b[0m \u001b[0mdensity\u001b[0m\u001b[0;34m=\u001b[0m\u001b[0;36m1\u001b[0m\u001b[0;34m,\u001b[0m \u001b[0mrange\u001b[0m\u001b[0;34m=\u001b[0m\u001b[0;34m(\u001b[0m\u001b[0;36m0\u001b[0m\u001b[0;34m,\u001b[0m\u001b[0;36m300\u001b[0m\u001b[0;34m)\u001b[0m\u001b[0;34m,\u001b[0m \u001b[0mlabel\u001b[0m\u001b[0;34m=\u001b[0m\u001b[0;34m'run 1  : {0:.0f}'\u001b[0m\u001b[0;34m.\u001b[0m\u001b[0mformat\u001b[0m\u001b[0;34m(\u001b[0m\u001b[0mnp\u001b[0m\u001b[0;34m.\u001b[0m\u001b[0mmean\u001b[0m\u001b[0;34m(\u001b[0m\u001b[0mpe_1\u001b[0m\u001b[0;34m)\u001b[0m\u001b[0;34m)\u001b[0m\u001b[0;34m,\u001b[0m \u001b[0mhisttype\u001b[0m\u001b[0;34m=\u001b[0m\u001b[0;34m'step'\u001b[0m\u001b[0;34m,\u001b[0m \u001b[0mbins\u001b[0m\u001b[0;34m=\u001b[0m\u001b[0;36m15\u001b[0m\u001b[0;34m)\u001b[0m\u001b[0;34m\u001b[0m\u001b[0m\n",
      "\u001b[0;31mNameError\u001b[0m: name 'gr' is not defined"
     ]
    }
   ],
   "source": [
    "fig,ax = plt.subplots(ncols=8,nrows=4,figsize=(12*gr,12))\n",
    "ax=ax.flatten()\n",
    "\n",
    "for i,(pe_1,pe_34) in enumerate(zip(flashPE[2],flashPE[4])):\n",
    "    ax[i].hist(pe_1, density=1, range=(0,300), label='run 1  : {0:.0f}'.format(np.mean(pe_1)), histtype='step', bins=15)\n",
    "    ax[i].hist(pe_34, density=1, range=(0,300), label='run 3/4: {0:.0f}'.format(np.mean(pe_34)), histtype='step', bins=15)\n",
    "    ax[i].set_yscale('log')\n",
    "    ax[i].set_ylim(1e-4,0.05)\n",
    "    ax[i].legend(title=\"PMT \"+str(i))\n",
    "fig.tight_layout()\n",
    "plt.show()"
   ]
  },
  {
   "cell_type": "code",
   "execution_count": null,
   "metadata": {},
   "outputs": [],
   "source": []
  }
 ],
 "metadata": {
  "kernelspec": {
   "display_name": "Uproot Env",
   "language": "python",
   "name": "uprootenv"
  },
  "language_info": {
   "codemirror_mode": {
    "name": "ipython",
    "version": 3
   },
   "file_extension": ".py",
   "mimetype": "text/x-python",
   "name": "python",
   "nbconvert_exporter": "python",
   "pygments_lexer": "ipython3",
   "version": "3.5.6"
  }
 },
 "nbformat": 4,
 "nbformat_minor": 2
}
